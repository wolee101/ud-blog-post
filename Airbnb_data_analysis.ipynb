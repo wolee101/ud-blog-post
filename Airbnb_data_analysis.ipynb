{
 "cells": [
  {
   "cell_type": "markdown",
   "metadata": {},
   "source": [
    "# SF Airbnb Data Analysis"
   ]
  },
  {
   "cell_type": "markdown",
   "metadata": {},
   "source": [
    "## Listing and Review Data Preparation"
   ]
  },
  {
   "cell_type": "code",
   "execution_count": 1,
   "metadata": {},
   "outputs": [],
   "source": [
    "# Load libraries\n",
    "\n",
    "import numpy as np\n",
    "import pandas as pd\n",
    "import datetime\n",
    "import time\n",
    "from scipy import stats\n",
    "import matplotlib\n",
    "from matplotlib import pyplot as plt\n",
    "import mapply\n",
    "\n",
    "import seaborn as sns\n",
    "%matplotlib inline\n",
    "\n",
    "import gender_guesser.detector as gender\n",
    "import nltk\n",
    "from nltk.sentiment.vader import SentimentIntensityAnalyzer\n",
    "\n",
    "from sklearn.linear_model import LinearRegression, LogisticRegression\n",
    "from sklearn.model_selection import train_test_split\n",
    "from sklearn.pipeline import Pipeline\n",
    "from sklearn.feature_extraction.text import TfidfVectorizer\n",
    "from sklearn.svm import LinearSVC\n",
    "from sklearn.metrics import classification_report, accuracy_score, r2_score\n",
    "\n",
    "from sklearn.feature_extraction.text import CountVectorizer\n",
    "from nltk.corpus import stopwords\n",
    "\n",
    "import spacy\n",
    "from spacy.language import Language\n",
    "from spacy_langdetect import LanguageDetector\n",
    "\n",
    "pd.options.mode.chained_assignment = None"
   ]
  },
  {
   "cell_type": "markdown",
   "metadata": {},
   "source": [
    "### Pre-process the listings data"
   ]
  },
  {
   "cell_type": "code",
   "execution_count": 2,
   "metadata": {},
   "outputs": [
    {
     "data": {
      "text/html": [
       "<div>\n",
       "<style scoped>\n",
       "    .dataframe tbody tr th:only-of-type {\n",
       "        vertical-align: middle;\n",
       "    }\n",
       "\n",
       "    .dataframe tbody tr th {\n",
       "        vertical-align: top;\n",
       "    }\n",
       "\n",
       "    .dataframe thead th {\n",
       "        text-align: right;\n",
       "    }\n",
       "</style>\n",
       "<table border=\"1\" class=\"dataframe\">\n",
       "  <thead>\n",
       "    <tr style=\"text-align: right;\">\n",
       "      <th></th>\n",
       "      <th>id</th>\n",
       "      <th>listing_url</th>\n",
       "      <th>scrape_id</th>\n",
       "      <th>last_scraped</th>\n",
       "      <th>name</th>\n",
       "      <th>summary</th>\n",
       "      <th>space</th>\n",
       "      <th>description</th>\n",
       "      <th>experiences_offered</th>\n",
       "      <th>neighborhood_overview</th>\n",
       "      <th>...</th>\n",
       "      <th>instant_bookable</th>\n",
       "      <th>is_business_travel_ready</th>\n",
       "      <th>cancellation_policy</th>\n",
       "      <th>require_guest_profile_picture</th>\n",
       "      <th>require_guest_phone_verification</th>\n",
       "      <th>calculated_host_listings_count</th>\n",
       "      <th>calculated_host_listings_count_entire_homes</th>\n",
       "      <th>calculated_host_listings_count_private_rooms</th>\n",
       "      <th>calculated_host_listings_count_shared_rooms</th>\n",
       "      <th>reviews_per_month</th>\n",
       "    </tr>\n",
       "  </thead>\n",
       "  <tbody>\n",
       "    <tr>\n",
       "      <th>0</th>\n",
       "      <td>958</td>\n",
       "      <td>https://www.airbnb.com/rooms/958</td>\n",
       "      <td>20190806030527</td>\n",
       "      <td>2019-08-06</td>\n",
       "      <td>Bright, Modern Garden Unit - 1BR/1B</td>\n",
       "      <td>New update: the house next door is under const...</td>\n",
       "      <td>Newly remodeled, modern, and bright garden uni...</td>\n",
       "      <td>New update: the house next door is under const...</td>\n",
       "      <td>none</td>\n",
       "      <td>*Quiet cul de sac in friendly neighborhood *St...</td>\n",
       "      <td>...</td>\n",
       "      <td>t</td>\n",
       "      <td>f</td>\n",
       "      <td>moderate</td>\n",
       "      <td>f</td>\n",
       "      <td>f</td>\n",
       "      <td>1</td>\n",
       "      <td>1</td>\n",
       "      <td>0</td>\n",
       "      <td>0</td>\n",
       "      <td>1.63</td>\n",
       "    </tr>\n",
       "    <tr>\n",
       "      <th>1</th>\n",
       "      <td>3850</td>\n",
       "      <td>https://www.airbnb.com/rooms/3850</td>\n",
       "      <td>20190806030527</td>\n",
       "      <td>2019-08-06</td>\n",
       "      <td>Charming room for two</td>\n",
       "      <td>Your own private room plus access to a shared ...</td>\n",
       "      <td>This is the first room I rented on Airbnb, sta...</td>\n",
       "      <td>Your own private room plus access to a shared ...</td>\n",
       "      <td>none</td>\n",
       "      <td>This is a quiet, safe neighborhood on a substa...</td>\n",
       "      <td>...</td>\n",
       "      <td>f</td>\n",
       "      <td>f</td>\n",
       "      <td>strict_14_with_grace_period</td>\n",
       "      <td>f</td>\n",
       "      <td>f</td>\n",
       "      <td>3</td>\n",
       "      <td>0</td>\n",
       "      <td>3</td>\n",
       "      <td>0</td>\n",
       "      <td>1.11</td>\n",
       "    </tr>\n",
       "    <tr>\n",
       "      <th>2</th>\n",
       "      <td>5858</td>\n",
       "      <td>https://www.airbnb.com/rooms/5858</td>\n",
       "      <td>20190806030527</td>\n",
       "      <td>2019-08-06</td>\n",
       "      <td>Creative Sanctuary</td>\n",
       "      <td>NaN</td>\n",
       "      <td>We live in a large Victorian house on a quiet ...</td>\n",
       "      <td>We live in a large Victorian house on a quiet ...</td>\n",
       "      <td>none</td>\n",
       "      <td>I love how our neighborhood feels quiet but is...</td>\n",
       "      <td>...</td>\n",
       "      <td>f</td>\n",
       "      <td>f</td>\n",
       "      <td>strict_14_with_grace_period</td>\n",
       "      <td>f</td>\n",
       "      <td>f</td>\n",
       "      <td>1</td>\n",
       "      <td>1</td>\n",
       "      <td>0</td>\n",
       "      <td>0</td>\n",
       "      <td>0.89</td>\n",
       "    </tr>\n",
       "    <tr>\n",
       "      <th>3</th>\n",
       "      <td>7918</td>\n",
       "      <td>https://www.airbnb.com/rooms/7918</td>\n",
       "      <td>20190806030527</td>\n",
       "      <td>2019-08-06</td>\n",
       "      <td>A Friendly Room - UCSF/USF - San Francisco</td>\n",
       "      <td>Nice and good public transportation.  7 minute...</td>\n",
       "      <td>Room rental-sunny view room/sink/Wi Fi (inner ...</td>\n",
       "      <td>Nice and good public transportation.  7 minute...</td>\n",
       "      <td>none</td>\n",
       "      <td>Shopping old town, restaurants, McDonald, Whol...</td>\n",
       "      <td>...</td>\n",
       "      <td>f</td>\n",
       "      <td>f</td>\n",
       "      <td>strict_14_with_grace_period</td>\n",
       "      <td>f</td>\n",
       "      <td>f</td>\n",
       "      <td>9</td>\n",
       "      <td>0</td>\n",
       "      <td>9</td>\n",
       "      <td>0</td>\n",
       "      <td>0.14</td>\n",
       "    </tr>\n",
       "    <tr>\n",
       "      <th>4</th>\n",
       "      <td>8142</td>\n",
       "      <td>https://www.airbnb.com/rooms/8142</td>\n",
       "      <td>20190806030527</td>\n",
       "      <td>2019-08-06</td>\n",
       "      <td>Friendly Room Apt. Style -UCSF/USF - San Franc...</td>\n",
       "      <td>Nice and good public transportation.  7 minute...</td>\n",
       "      <td>Room rental Sunny view Rm/Wi-Fi/TV/sink/large ...</td>\n",
       "      <td>Nice and good public transportation.  7 minute...</td>\n",
       "      <td>none</td>\n",
       "      <td>NaN</td>\n",
       "      <td>...</td>\n",
       "      <td>f</td>\n",
       "      <td>f</td>\n",
       "      <td>strict_14_with_grace_period</td>\n",
       "      <td>f</td>\n",
       "      <td>f</td>\n",
       "      <td>9</td>\n",
       "      <td>0</td>\n",
       "      <td>9</td>\n",
       "      <td>0</td>\n",
       "      <td>0.13</td>\n",
       "    </tr>\n",
       "  </tbody>\n",
       "</table>\n",
       "<p>5 rows × 106 columns</p>\n",
       "</div>"
      ],
      "text/plain": [
       "     id                        listing_url       scrape_id last_scraped  \\\n",
       "0   958   https://www.airbnb.com/rooms/958  20190806030527   2019-08-06   \n",
       "1  3850  https://www.airbnb.com/rooms/3850  20190806030527   2019-08-06   \n",
       "2  5858  https://www.airbnb.com/rooms/5858  20190806030527   2019-08-06   \n",
       "3  7918  https://www.airbnb.com/rooms/7918  20190806030527   2019-08-06   \n",
       "4  8142  https://www.airbnb.com/rooms/8142  20190806030527   2019-08-06   \n",
       "\n",
       "                                                name  \\\n",
       "0                Bright, Modern Garden Unit - 1BR/1B   \n",
       "1                              Charming room for two   \n",
       "2                                 Creative Sanctuary   \n",
       "3         A Friendly Room - UCSF/USF - San Francisco   \n",
       "4  Friendly Room Apt. Style -UCSF/USF - San Franc...   \n",
       "\n",
       "                                             summary  \\\n",
       "0  New update: the house next door is under const...   \n",
       "1  Your own private room plus access to a shared ...   \n",
       "2                                                NaN   \n",
       "3  Nice and good public transportation.  7 minute...   \n",
       "4  Nice and good public transportation.  7 minute...   \n",
       "\n",
       "                                               space  \\\n",
       "0  Newly remodeled, modern, and bright garden uni...   \n",
       "1  This is the first room I rented on Airbnb, sta...   \n",
       "2  We live in a large Victorian house on a quiet ...   \n",
       "3  Room rental-sunny view room/sink/Wi Fi (inner ...   \n",
       "4  Room rental Sunny view Rm/Wi-Fi/TV/sink/large ...   \n",
       "\n",
       "                                         description experiences_offered  \\\n",
       "0  New update: the house next door is under const...                none   \n",
       "1  Your own private room plus access to a shared ...                none   \n",
       "2  We live in a large Victorian house on a quiet ...                none   \n",
       "3  Nice and good public transportation.  7 minute...                none   \n",
       "4  Nice and good public transportation.  7 minute...                none   \n",
       "\n",
       "                               neighborhood_overview  ... instant_bookable  \\\n",
       "0  *Quiet cul de sac in friendly neighborhood *St...  ...                t   \n",
       "1  This is a quiet, safe neighborhood on a substa...  ...                f   \n",
       "2  I love how our neighborhood feels quiet but is...  ...                f   \n",
       "3  Shopping old town, restaurants, McDonald, Whol...  ...                f   \n",
       "4                                                NaN  ...                f   \n",
       "\n",
       "  is_business_travel_ready          cancellation_policy  \\\n",
       "0                        f                     moderate   \n",
       "1                        f  strict_14_with_grace_period   \n",
       "2                        f  strict_14_with_grace_period   \n",
       "3                        f  strict_14_with_grace_period   \n",
       "4                        f  strict_14_with_grace_period   \n",
       "\n",
       "  require_guest_profile_picture require_guest_phone_verification  \\\n",
       "0                             f                                f   \n",
       "1                             f                                f   \n",
       "2                             f                                f   \n",
       "3                             f                                f   \n",
       "4                             f                                f   \n",
       "\n",
       "   calculated_host_listings_count  \\\n",
       "0                               1   \n",
       "1                               3   \n",
       "2                               1   \n",
       "3                               9   \n",
       "4                               9   \n",
       "\n",
       "   calculated_host_listings_count_entire_homes  \\\n",
       "0                                            1   \n",
       "1                                            0   \n",
       "2                                            1   \n",
       "3                                            0   \n",
       "4                                            0   \n",
       "\n",
       "  calculated_host_listings_count_private_rooms  \\\n",
       "0                                            0   \n",
       "1                                            3   \n",
       "2                                            0   \n",
       "3                                            9   \n",
       "4                                            9   \n",
       "\n",
       "   calculated_host_listings_count_shared_rooms  reviews_per_month  \n",
       "0                                            0               1.63  \n",
       "1                                            0               1.11  \n",
       "2                                            0               0.89  \n",
       "3                                            0               0.14  \n",
       "4                                            0               0.13  \n",
       "\n",
       "[5 rows x 106 columns]"
      ]
     },
     "execution_count": 2,
     "metadata": {},
     "output_type": "execute_result"
    }
   ],
   "source": [
    "# Load the listings data for the Airbnb San Francisco area\n",
    "\n",
    "git_path = 'https://raw.githubusercontent.com/wolee101/ud-blog_post/master/'\n",
    "listings_path = git_path + 'listings.csv.gz'\n",
    "\n",
    "listings_raw = pd.read_csv(listings_path)\n",
    "listings_raw.head()"
   ]
  },
  {
   "cell_type": "code",
   "execution_count": 3,
   "metadata": {},
   "outputs": [
    {
     "name": "stdout",
     "output_type": "stream",
     "text": [
      "There are 7833 listings and 106 features in the San Feancisco Airbnb listing data file.\n"
     ]
    }
   ],
   "source": [
    "# check the shape of the listings dataframe \n",
    "\n",
    "print(f'There are {listings_raw.shape[0]} listings and {listings_raw.shape[1]} features in the San Feancisco Airbnb listing data file.')"
   ]
  },
  {
   "cell_type": "code",
   "execution_count": 4,
   "metadata": {},
   "outputs": [
    {
     "data": {
      "text/plain": [
       "7833"
      ]
     },
     "execution_count": 4,
     "metadata": {},
     "output_type": "execute_result"
    }
   ],
   "source": [
    "# Check if there are duplicate listings - no duplicate listings\n",
    "\n",
    "listings_raw['id'].nunique()"
   ]
  },
  {
   "cell_type": "code",
   "execution_count": 5,
   "metadata": {},
   "outputs": [
    {
     "data": {
      "text/plain": [
       "id                                                 0\n",
       "listing_url                                        0\n",
       "scrape_id                                          0\n",
       "last_scraped                                       0\n",
       "name                                               0\n",
       "                                                ... \n",
       "calculated_host_listings_count                     0\n",
       "calculated_host_listings_count_entire_homes        0\n",
       "calculated_host_listings_count_private_rooms       0\n",
       "calculated_host_listings_count_shared_rooms        0\n",
       "reviews_per_month                               1558\n",
       "Length: 106, dtype: int64"
      ]
     },
     "execution_count": 5,
     "metadata": {},
     "output_type": "execute_result"
    }
   ],
   "source": [
    "# List the column names that have null values\n",
    "\n",
    "listings_raw.isnull().sum()"
   ]
  },
  {
   "cell_type": "code",
   "execution_count": 6,
   "metadata": {},
   "outputs": [],
   "source": [
    "# Subset to a dataframe that only holds relevant columns to answer the research questions which include:\n",
    "# listing id, property/room type, minimum stay, host, price, and review related columns\n",
    "\n",
    "listings = listings_raw[['id', 'property_type', 'room_type', 'price', 'minimum_nights', \n",
    "                         'host_id', 'host_since', 'host_is_superhost', 'host_listings_count', 'host_response_rate',   \n",
    "                        'number_of_reviews', 'review_scores_rating', 'review_scores_accuracy', \n",
    "                        'review_scores_cleanliness', 'review_scores_checkin','review_scores_communication', \n",
    "                        'review_scores_location', 'review_scores_value', 'reviews_per_month']]"
   ]
  },
  {
   "cell_type": "code",
   "execution_count": 7,
   "metadata": {},
   "outputs": [
    {
     "data": {
      "text/html": [
       "<div>\n",
       "<style scoped>\n",
       "    .dataframe tbody tr th:only-of-type {\n",
       "        vertical-align: middle;\n",
       "    }\n",
       "\n",
       "    .dataframe tbody tr th {\n",
       "        vertical-align: top;\n",
       "    }\n",
       "\n",
       "    .dataframe thead th {\n",
       "        text-align: right;\n",
       "    }\n",
       "</style>\n",
       "<table border=\"1\" class=\"dataframe\">\n",
       "  <thead>\n",
       "    <tr style=\"text-align: right;\">\n",
       "      <th></th>\n",
       "      <th>id</th>\n",
       "      <th>property_type</th>\n",
       "      <th>room_type</th>\n",
       "      <th>price</th>\n",
       "      <th>minimum_nights</th>\n",
       "      <th>host_id</th>\n",
       "      <th>host_since</th>\n",
       "      <th>host_is_superhost</th>\n",
       "      <th>host_listings_count</th>\n",
       "      <th>host_response_rate</th>\n",
       "      <th>number_of_reviews</th>\n",
       "      <th>review_scores_rating</th>\n",
       "      <th>review_scores_accuracy</th>\n",
       "      <th>review_scores_cleanliness</th>\n",
       "      <th>review_scores_checkin</th>\n",
       "      <th>review_scores_communication</th>\n",
       "      <th>review_scores_location</th>\n",
       "      <th>review_scores_value</th>\n",
       "      <th>reviews_per_month</th>\n",
       "    </tr>\n",
       "  </thead>\n",
       "  <tbody>\n",
       "    <tr>\n",
       "      <th>0</th>\n",
       "      <td>958</td>\n",
       "      <td>Apartment</td>\n",
       "      <td>Entire home/apt</td>\n",
       "      <td>$170.00</td>\n",
       "      <td>1</td>\n",
       "      <td>1169</td>\n",
       "      <td>2008-07-31</td>\n",
       "      <td>t</td>\n",
       "      <td>1.0</td>\n",
       "      <td>90%</td>\n",
       "      <td>199</td>\n",
       "      <td>97.0</td>\n",
       "      <td>10.0</td>\n",
       "      <td>10.0</td>\n",
       "      <td>10.0</td>\n",
       "      <td>10.0</td>\n",
       "      <td>10.0</td>\n",
       "      <td>9.0</td>\n",
       "      <td>1.63</td>\n",
       "    </tr>\n",
       "    <tr>\n",
       "      <th>1</th>\n",
       "      <td>3850</td>\n",
       "      <td>House</td>\n",
       "      <td>Private room</td>\n",
       "      <td>$99.00</td>\n",
       "      <td>1</td>\n",
       "      <td>4921</td>\n",
       "      <td>2008-12-08</td>\n",
       "      <td>t</td>\n",
       "      <td>2.0</td>\n",
       "      <td>100%</td>\n",
       "      <td>136</td>\n",
       "      <td>94.0</td>\n",
       "      <td>9.0</td>\n",
       "      <td>9.0</td>\n",
       "      <td>10.0</td>\n",
       "      <td>10.0</td>\n",
       "      <td>9.0</td>\n",
       "      <td>9.0</td>\n",
       "      <td>1.11</td>\n",
       "    </tr>\n",
       "    <tr>\n",
       "      <th>2</th>\n",
       "      <td>5858</td>\n",
       "      <td>Apartment</td>\n",
       "      <td>Entire home/apt</td>\n",
       "      <td>$235.00</td>\n",
       "      <td>30</td>\n",
       "      <td>8904</td>\n",
       "      <td>2009-03-02</td>\n",
       "      <td>f</td>\n",
       "      <td>2.0</td>\n",
       "      <td>67%</td>\n",
       "      <td>111</td>\n",
       "      <td>98.0</td>\n",
       "      <td>10.0</td>\n",
       "      <td>10.0</td>\n",
       "      <td>10.0</td>\n",
       "      <td>10.0</td>\n",
       "      <td>10.0</td>\n",
       "      <td>9.0</td>\n",
       "      <td>0.89</td>\n",
       "    </tr>\n",
       "    <tr>\n",
       "      <th>3</th>\n",
       "      <td>7918</td>\n",
       "      <td>Apartment</td>\n",
       "      <td>Private room</td>\n",
       "      <td>$65.00</td>\n",
       "      <td>32</td>\n",
       "      <td>21994</td>\n",
       "      <td>2009-06-17</td>\n",
       "      <td>t</td>\n",
       "      <td>10.0</td>\n",
       "      <td>100%</td>\n",
       "      <td>17</td>\n",
       "      <td>85.0</td>\n",
       "      <td>8.0</td>\n",
       "      <td>8.0</td>\n",
       "      <td>9.0</td>\n",
       "      <td>9.0</td>\n",
       "      <td>9.0</td>\n",
       "      <td>8.0</td>\n",
       "      <td>0.14</td>\n",
       "    </tr>\n",
       "    <tr>\n",
       "      <th>4</th>\n",
       "      <td>8142</td>\n",
       "      <td>Apartment</td>\n",
       "      <td>Private room</td>\n",
       "      <td>$65.00</td>\n",
       "      <td>32</td>\n",
       "      <td>21994</td>\n",
       "      <td>2009-06-17</td>\n",
       "      <td>t</td>\n",
       "      <td>10.0</td>\n",
       "      <td>100%</td>\n",
       "      <td>8</td>\n",
       "      <td>93.0</td>\n",
       "      <td>9.0</td>\n",
       "      <td>9.0</td>\n",
       "      <td>10.0</td>\n",
       "      <td>10.0</td>\n",
       "      <td>9.0</td>\n",
       "      <td>9.0</td>\n",
       "      <td>0.13</td>\n",
       "    </tr>\n",
       "  </tbody>\n",
       "</table>\n",
       "</div>"
      ],
      "text/plain": [
       "     id property_type        room_type    price  minimum_nights  host_id  \\\n",
       "0   958     Apartment  Entire home/apt  $170.00               1     1169   \n",
       "1  3850         House     Private room   $99.00               1     4921   \n",
       "2  5858     Apartment  Entire home/apt  $235.00              30     8904   \n",
       "3  7918     Apartment     Private room   $65.00              32    21994   \n",
       "4  8142     Apartment     Private room   $65.00              32    21994   \n",
       "\n",
       "   host_since host_is_superhost  host_listings_count host_response_rate  \\\n",
       "0  2008-07-31                 t                  1.0                90%   \n",
       "1  2008-12-08                 t                  2.0               100%   \n",
       "2  2009-03-02                 f                  2.0                67%   \n",
       "3  2009-06-17                 t                 10.0               100%   \n",
       "4  2009-06-17                 t                 10.0               100%   \n",
       "\n",
       "   number_of_reviews  review_scores_rating  review_scores_accuracy  \\\n",
       "0                199                  97.0                    10.0   \n",
       "1                136                  94.0                     9.0   \n",
       "2                111                  98.0                    10.0   \n",
       "3                 17                  85.0                     8.0   \n",
       "4                  8                  93.0                     9.0   \n",
       "\n",
       "   review_scores_cleanliness  review_scores_checkin  \\\n",
       "0                       10.0                   10.0   \n",
       "1                        9.0                   10.0   \n",
       "2                       10.0                   10.0   \n",
       "3                        8.0                    9.0   \n",
       "4                        9.0                   10.0   \n",
       "\n",
       "   review_scores_communication  review_scores_location  review_scores_value  \\\n",
       "0                         10.0                    10.0                  9.0   \n",
       "1                         10.0                     9.0                  9.0   \n",
       "2                         10.0                    10.0                  9.0   \n",
       "3                          9.0                     9.0                  8.0   \n",
       "4                         10.0                     9.0                  9.0   \n",
       "\n",
       "   reviews_per_month  \n",
       "0               1.63  \n",
       "1               1.11  \n",
       "2               0.89  \n",
       "3               0.14  \n",
       "4               0.13  "
      ]
     },
     "execution_count": 7,
     "metadata": {},
     "output_type": "execute_result"
    }
   ],
   "source": [
    "listings.head()"
   ]
  },
  {
   "cell_type": "code",
   "execution_count": 8,
   "metadata": {},
   "outputs": [
    {
     "data": {
      "text/html": [
       "<div>\n",
       "<style scoped>\n",
       "    .dataframe tbody tr th:only-of-type {\n",
       "        vertical-align: middle;\n",
       "    }\n",
       "\n",
       "    .dataframe tbody tr th {\n",
       "        vertical-align: top;\n",
       "    }\n",
       "\n",
       "    .dataframe thead th {\n",
       "        text-align: right;\n",
       "    }\n",
       "</style>\n",
       "<table border=\"1\" class=\"dataframe\">\n",
       "  <thead>\n",
       "    <tr style=\"text-align: right;\">\n",
       "      <th></th>\n",
       "      <th>minimum_nights</th>\n",
       "      <th>host_id</th>\n",
       "      <th>host_listings_count</th>\n",
       "      <th>number_of_reviews</th>\n",
       "      <th>review_scores_rating</th>\n",
       "      <th>review_scores_accuracy</th>\n",
       "      <th>review_scores_cleanliness</th>\n",
       "      <th>review_scores_checkin</th>\n",
       "      <th>review_scores_communication</th>\n",
       "      <th>review_scores_location</th>\n",
       "      <th>review_scores_value</th>\n",
       "      <th>reviews_per_month</th>\n",
       "    </tr>\n",
       "  </thead>\n",
       "  <tbody>\n",
       "    <tr>\n",
       "      <th>count</th>\n",
       "      <td>7.833000e+03</td>\n",
       "      <td>7.833000e+03</td>\n",
       "      <td>7832.000000</td>\n",
       "      <td>7833.000000</td>\n",
       "      <td>6226.000000</td>\n",
       "      <td>6222.000000</td>\n",
       "      <td>6223.000000</td>\n",
       "      <td>6220.000000</td>\n",
       "      <td>6224.000000</td>\n",
       "      <td>6220.000000</td>\n",
       "      <td>6220.000000</td>\n",
       "      <td>6275.000000</td>\n",
       "    </tr>\n",
       "    <tr>\n",
       "      <th>mean</th>\n",
       "      <td>1.278316e+04</td>\n",
       "      <td>5.479076e+07</td>\n",
       "      <td>80.686798</td>\n",
       "      <td>44.795608</td>\n",
       "      <td>95.601028</td>\n",
       "      <td>9.767117</td>\n",
       "      <td>9.625100</td>\n",
       "      <td>9.859325</td>\n",
       "      <td>9.835958</td>\n",
       "      <td>9.686174</td>\n",
       "      <td>9.403859</td>\n",
       "      <td>1.847225</td>\n",
       "    </tr>\n",
       "    <tr>\n",
       "      <th>std</th>\n",
       "      <td>1.129889e+06</td>\n",
       "      <td>7.171995e+07</td>\n",
       "      <td>281.468017</td>\n",
       "      <td>76.577321</td>\n",
       "      <td>7.222310</td>\n",
       "      <td>0.693223</td>\n",
       "      <td>0.804835</td>\n",
       "      <td>0.538277</td>\n",
       "      <td>0.607616</td>\n",
       "      <td>0.708233</td>\n",
       "      <td>0.828763</td>\n",
       "      <td>2.036818</td>\n",
       "    </tr>\n",
       "    <tr>\n",
       "      <th>min</th>\n",
       "      <td>1.000000e+00</td>\n",
       "      <td>4.600000e+01</td>\n",
       "      <td>0.000000</td>\n",
       "      <td>0.000000</td>\n",
       "      <td>20.000000</td>\n",
       "      <td>2.000000</td>\n",
       "      <td>2.000000</td>\n",
       "      <td>2.000000</td>\n",
       "      <td>2.000000</td>\n",
       "      <td>2.000000</td>\n",
       "      <td>2.000000</td>\n",
       "      <td>0.010000</td>\n",
       "    </tr>\n",
       "    <tr>\n",
       "      <th>25%</th>\n",
       "      <td>2.000000e+00</td>\n",
       "      <td>4.191595e+06</td>\n",
       "      <td>1.000000</td>\n",
       "      <td>1.000000</td>\n",
       "      <td>95.000000</td>\n",
       "      <td>10.000000</td>\n",
       "      <td>9.000000</td>\n",
       "      <td>10.000000</td>\n",
       "      <td>10.000000</td>\n",
       "      <td>10.000000</td>\n",
       "      <td>9.000000</td>\n",
       "      <td>0.300000</td>\n",
       "    </tr>\n",
       "    <tr>\n",
       "      <th>50%</th>\n",
       "      <td>4.000000e+00</td>\n",
       "      <td>2.034139e+07</td>\n",
       "      <td>2.000000</td>\n",
       "      <td>11.000000</td>\n",
       "      <td>98.000000</td>\n",
       "      <td>10.000000</td>\n",
       "      <td>10.000000</td>\n",
       "      <td>10.000000</td>\n",
       "      <td>10.000000</td>\n",
       "      <td>10.000000</td>\n",
       "      <td>10.000000</td>\n",
       "      <td>1.020000</td>\n",
       "    </tr>\n",
       "    <tr>\n",
       "      <th>75%</th>\n",
       "      <td>3.000000e+01</td>\n",
       "      <td>8.401186e+07</td>\n",
       "      <td>10.000000</td>\n",
       "      <td>54.000000</td>\n",
       "      <td>100.000000</td>\n",
       "      <td>10.000000</td>\n",
       "      <td>10.000000</td>\n",
       "      <td>10.000000</td>\n",
       "      <td>10.000000</td>\n",
       "      <td>10.000000</td>\n",
       "      <td>10.000000</td>\n",
       "      <td>2.800000</td>\n",
       "    </tr>\n",
       "    <tr>\n",
       "      <th>max</th>\n",
       "      <td>1.000000e+08</td>\n",
       "      <td>2.818842e+08</td>\n",
       "      <td>1465.000000</td>\n",
       "      <td>730.000000</td>\n",
       "      <td>100.000000</td>\n",
       "      <td>10.000000</td>\n",
       "      <td>10.000000</td>\n",
       "      <td>10.000000</td>\n",
       "      <td>10.000000</td>\n",
       "      <td>10.000000</td>\n",
       "      <td>10.000000</td>\n",
       "      <td>18.610000</td>\n",
       "    </tr>\n",
       "  </tbody>\n",
       "</table>\n",
       "</div>"
      ],
      "text/plain": [
       "       minimum_nights       host_id  host_listings_count  number_of_reviews  \\\n",
       "count    7.833000e+03  7.833000e+03          7832.000000        7833.000000   \n",
       "mean     1.278316e+04  5.479076e+07            80.686798          44.795608   \n",
       "std      1.129889e+06  7.171995e+07           281.468017          76.577321   \n",
       "min      1.000000e+00  4.600000e+01             0.000000           0.000000   \n",
       "25%      2.000000e+00  4.191595e+06             1.000000           1.000000   \n",
       "50%      4.000000e+00  2.034139e+07             2.000000          11.000000   \n",
       "75%      3.000000e+01  8.401186e+07            10.000000          54.000000   \n",
       "max      1.000000e+08  2.818842e+08          1465.000000         730.000000   \n",
       "\n",
       "       review_scores_rating  review_scores_accuracy  \\\n",
       "count           6226.000000             6222.000000   \n",
       "mean              95.601028                9.767117   \n",
       "std                7.222310                0.693223   \n",
       "min               20.000000                2.000000   \n",
       "25%               95.000000               10.000000   \n",
       "50%               98.000000               10.000000   \n",
       "75%              100.000000               10.000000   \n",
       "max              100.000000               10.000000   \n",
       "\n",
       "       review_scores_cleanliness  review_scores_checkin  \\\n",
       "count                6223.000000            6220.000000   \n",
       "mean                    9.625100               9.859325   \n",
       "std                     0.804835               0.538277   \n",
       "min                     2.000000               2.000000   \n",
       "25%                     9.000000              10.000000   \n",
       "50%                    10.000000              10.000000   \n",
       "75%                    10.000000              10.000000   \n",
       "max                    10.000000              10.000000   \n",
       "\n",
       "       review_scores_communication  review_scores_location  \\\n",
       "count                  6224.000000             6220.000000   \n",
       "mean                      9.835958                9.686174   \n",
       "std                       0.607616                0.708233   \n",
       "min                       2.000000                2.000000   \n",
       "25%                      10.000000               10.000000   \n",
       "50%                      10.000000               10.000000   \n",
       "75%                      10.000000               10.000000   \n",
       "max                      10.000000               10.000000   \n",
       "\n",
       "       review_scores_value  reviews_per_month  \n",
       "count          6220.000000        6275.000000  \n",
       "mean              9.403859           1.847225  \n",
       "std               0.828763           2.036818  \n",
       "min               2.000000           0.010000  \n",
       "25%               9.000000           0.300000  \n",
       "50%              10.000000           1.020000  \n",
       "75%              10.000000           2.800000  \n",
       "max              10.000000          18.610000  "
      ]
     },
     "execution_count": 8,
     "metadata": {},
     "output_type": "execute_result"
    }
   ],
   "source": [
    "# Get Descriptive statistics\n",
    "\n",
    "listings.drop(listings.iloc[:, 0:1], axis = 1).describe()"
   ]
  },
  {
   "cell_type": "code",
   "execution_count": 9,
   "metadata": {},
   "outputs": [
    {
     "data": {
      "text/plain": [
       "id                                0\n",
       "property_type                     0\n",
       "room_type                         0\n",
       "price                             0\n",
       "minimum_nights                    0\n",
       "host_id                           0\n",
       "number_of_reviews                 0\n",
       "host_since                        1\n",
       "host_is_superhost                 1\n",
       "host_listings_count               1\n",
       "host_response_rate              791\n",
       "reviews_per_month              1558\n",
       "review_scores_rating           1607\n",
       "review_scores_communication    1609\n",
       "review_scores_cleanliness      1610\n",
       "review_scores_accuracy         1611\n",
       "review_scores_checkin          1613\n",
       "review_scores_location         1613\n",
       "review_scores_value            1613\n",
       "dtype: int64"
      ]
     },
     "execution_count": 9,
     "metadata": {},
     "output_type": "execute_result"
    }
   ],
   "source": [
    "# Check the number of missing values for each variable\n",
    "\n",
    "listings.isnull().sum().sort_values()"
   ]
  },
  {
   "cell_type": "code",
   "execution_count": 10,
   "metadata": {},
   "outputs": [
    {
     "data": {
      "text/plain": [
       "id                               int64\n",
       "property_type                   object\n",
       "room_type                       object\n",
       "price                           object\n",
       "minimum_nights                   int64\n",
       "host_id                          int64\n",
       "host_since                      object\n",
       "host_is_superhost               object\n",
       "host_listings_count            float64\n",
       "host_response_rate              object\n",
       "number_of_reviews                int64\n",
       "review_scores_rating           float64\n",
       "review_scores_accuracy         float64\n",
       "review_scores_cleanliness      float64\n",
       "review_scores_checkin          float64\n",
       "review_scores_communication    float64\n",
       "review_scores_location         float64\n",
       "review_scores_value            float64\n",
       "reviews_per_month              float64\n",
       "dtype: object"
      ]
     },
     "execution_count": 10,
     "metadata": {},
     "output_type": "execute_result"
    }
   ],
   "source": [
    "# Check the data types of all columns\n",
    "\n",
    "listings.dtypes"
   ]
  },
  {
   "cell_type": "code",
   "execution_count": 11,
   "metadata": {},
   "outputs": [
    {
     "data": {
      "text/plain": [
       "Apartment             3169\n",
       "House                 2210\n",
       "Condominium            839\n",
       "Guest suite            555\n",
       "Boutique hotel         235\n",
       "Hotel                  156\n",
       "Townhouse              141\n",
       "Serviced apartment     130\n",
       "Loft                    94\n",
       "Hostel                  93\n",
       "Guesthouse              43\n",
       "Bed and breakfast       41\n",
       "Aparthotel              30\n",
       "Other                   28\n",
       "Bungalow                18\n",
       "Resort                  17\n",
       "Cottage                  9\n",
       "Villa                    9\n",
       "Tiny house               3\n",
       "Earth house              2\n",
       "Cabin                    2\n",
       "Boat                     2\n",
       "Camper/RV                2\n",
       "In-law                   1\n",
       "Timeshare                1\n",
       "Dome house               1\n",
       "Vacation home            1\n",
       "Castle                   1\n",
       "Name: property_type, dtype: int64"
      ]
     },
     "execution_count": 11,
     "metadata": {},
     "output_type": "execute_result"
    }
   ],
   "source": [
    "# Check the property type values\n",
    "\n",
    "listings.property_type.value_counts()"
   ]
  },
  {
   "cell_type": "code",
   "execution_count": 12,
   "metadata": {},
   "outputs": [],
   "source": [
    "# Recode the property types\n",
    "\n",
    "def recode_property(x):\n",
    "    \n",
    "    '''\n",
    "    This function recode the property types.\n",
    "    'Apartment'='1', 'House'='2', 'Condominium/Townhouse'='3', and the rmaining types='4'\n",
    "    \n",
    "    Input = property type\n",
    "    Output = recoded property type\n",
    "    \n",
    "    '''\n",
    "    \n",
    "    if x != None:\n",
    "        if x == 'Apartment':\n",
    "            return 'Apartment'\n",
    "        elif x == 'House':\n",
    "            return 'House'\n",
    "        elif x == 'Condominium' or x =='Townhouse':\n",
    "            return 'Condo/Townhouse'\n",
    "        else:\n",
    "            return 'Other'"
   ]
  },
  {
   "cell_type": "code",
   "execution_count": 13,
   "metadata": {},
   "outputs": [],
   "source": [
    "listings['property_type_rec'] = listings['property_type'].apply(recode_property)"
   ]
  },
  {
   "cell_type": "code",
   "execution_count": 14,
   "metadata": {},
   "outputs": [
    {
     "data": {
      "image/png": "[encoded data removed]",
      "text/plain": [
       "<Figure size 500x500 with 1 Axes>"
      ]
     },
     "metadata": {},
     "output_type": "display_data"
    }
   ],
   "source": [
    "# Plot property types: apartments > houses > other types > condo/townhose  \n",
    "\n",
    "ptypes = listings.property_type_rec.value_counts()\n",
    "sns.set()\n",
    "ptypes.plot(title = 'Property Types', figsize = [5,5], kind = 'pie', \n",
    "          autopct = lambda p: '{:.1f}%({:.0f})'.format(p,(p/100)*ptypes.sum()));"
   ]
  },
  {
   "cell_type": "code",
   "execution_count": 15,
   "metadata": {},
   "outputs": [
    {
     "data": {
      "image/png": "[encoded data removed]",
      "text/plain": [
       "<Figure size 500x500 with 1 Axes>"
      ]
     },
     "metadata": {},
     "output_type": "display_data"
    }
   ],
   "source": [
    "# Plot room types: entire property is most common\n",
    "\n",
    "rtypes = listings.room_type.value_counts()\n",
    "\n",
    "sns.set()\n",
    "rtypes.plot(title = 'Room Types', figsize = [5,5], kind = 'pie', \n",
    "          autopct = lambda p: '{:.1f}%({:.0f})'.format(p,(p/100)*rtypes.sum()));"
   ]
  },
  {
   "cell_type": "code",
   "execution_count": 16,
   "metadata": {},
   "outputs": [],
   "source": [
    "# Recode the super_host status column: t = superhost; f = non-superhost\n",
    "\n",
    "listings['host_is_superhost'] = np.where(listings['host_is_superhost'] == 't', 'superhost', 'non-superhost') "
   ]
  },
  {
   "cell_type": "code",
   "execution_count": 17,
   "metadata": {},
   "outputs": [
    {
     "data": {
      "image/png": "[encoded data removed]",
      "text/plain": [
       "<Figure size 400x400 with 1 Axes>"
      ]
     },
     "metadata": {},
     "output_type": "display_data"
    }
   ],
   "source": [
    "# Check the superhost values: superhost < non-superhost\n",
    "\n",
    "shost = listings.host_is_superhost.value_counts()\n",
    "sns.set()\n",
    "shost.plot(title = 'Superhost Status', figsize = [4,4], kind = 'bar')\n",
    "plt.xticks(rotation = 45, ha = 'right');"
   ]
  },
  {
   "cell_type": "code",
   "execution_count": 18,
   "metadata": {},
   "outputs": [
    {
     "name": "stdout",
     "output_type": "stream",
     "text": [
      "\n",
      "The percentage of superhosts in San Francisco is 44.02%.\n"
     ]
    }
   ],
   "source": [
    "# Check the perentage of superhost\n",
    "\n",
    "superhost_stat = listings.loc[listings.host_is_superhost == 'superhost']\n",
    "superhost_percent = superhost_stat.shape[0]/listings.shape[0]*100\n",
    "print(f'\\nThe percentage of superhosts in San Francisco is {superhost_percent:.2f}%.')"
   ]
  },
  {
   "cell_type": "code",
   "execution_count": 19,
   "metadata": {},
   "outputs": [],
   "source": [
    "# Recode the super_host status column: t = 1; f =0\n",
    "\n",
    "listings['superhost'] = np.where(listings['host_is_superhost'] == 'superhost', '1', '0') "
   ]
  },
  {
   "cell_type": "code",
   "execution_count": 20,
   "metadata": {},
   "outputs": [
    {
     "name": "stdout",
     "output_type": "stream",
     "text": [
      "The number of outliers for the price per night is 87.\n",
      "\n",
      "\n",
      "The percentage of outliers in the price column is 0.01%.\n"
     ]
    }
   ],
   "source": [
    "# Check values and outliers for the price column\n",
    "\n",
    "# Recode price to int\n",
    "\n",
    "listings['price_rec'] = listings['price'].replace('\\D', '', regex = True).astype(int)\n",
    "listings['price_rec'] = listings['price_rec']/100\n",
    "\n",
    "# Find outliers that are outside the 3 SD. \n",
    "# Some prices listed appeared to be errors (e.g., $9,999 per night and $850 per week)\n",
    "\n",
    "price_outlier = listings[(np.abs(stats.zscore(listings.price_rec)) > 3)]\n",
    "print(f'The number of outliers for the price per night is {price_outlier.shape[0]}.\\n')\n",
    "\n",
    "# $1,000 looks like a good cut off value for outliers\n",
    "price_outlier = listings.loc[listings.price_rec >= 1000]\n",
    "\n",
    "# Get the percentage of outliers\n",
    "outlier_percent = price_outlier.shape[0]/listings.price.shape[0]\n",
    "print(f'\\nThe percentage of outliers in the price column is {outlier_percent:.2f}%.')\n",
    "\n",
    "# Recode these outliers as missing so they can be dropped in the next processing step\n",
    "\n",
    "listings['price_night'] = listings['price_rec'].apply(lambda x: np.nan if x >= 1000 else x)"
   ]
  },
  {
   "cell_type": "code",
   "execution_count": 118,
   "metadata": {},
   "outputs": [
    {
     "data": {
      "image/png": "[encoded data removed]",
      "text/plain": [
       "<Figure size 800x400 with 1 Axes>"
      ]
     },
     "metadata": {},
     "output_type": "display_data"
    }
   ],
   "source": [
    "# Look at the raw prices across different propety types: \n",
    "# Vacation rental, Timeshare and castle are the most expensive property types but there is only one of each.\n",
    "\n",
    "price_comp = listings.groupby(listings['property_type'])['price_rec'].mean().sort_values().\\\n",
    "    plot(kind = 'bar', figsize = (8, 4),  \\\n",
    "         xlabel = 'Property Types in SF', ylabel = 'Average Price Per Night', \\\n",
    "         title = 'Comparison of Prices Across Different Property Types', facecolor = 'c');\n"
   ]
  },
  {
   "cell_type": "code",
   "execution_count": 22,
   "metadata": {},
   "outputs": [
    {
     "name": "stdout",
     "output_type": "stream",
     "text": [
      "110 listings with $1,000 or higher per night are excluded.\n",
      "$195.51 is the mean price per night excluding these outliers.\n"
     ]
    }
   ],
   "source": [
    "# Check the number of null values in the recoded price column\n",
    "\n",
    "print(f'{listings.price_night.isnull().sum()} listings with $1,000 or higher per night are excluded.\\n${listings.price_night.mean():.2f} is the mean price per night excluding these outliers.')"
   ]
  },
  {
   "cell_type": "code",
   "execution_count": 23,
   "metadata": {},
   "outputs": [
    {
     "data": {
      "text/plain": [
       "count    7723.000000\n",
       "mean      195.505891\n",
       "std       147.943404\n",
       "min         0.000000\n",
       "25%       100.000000\n",
       "50%       150.000000\n",
       "75%       240.000000\n",
       "max       999.000000\n",
       "Name: price_night, dtype: float64"
      ]
     },
     "execution_count": 23,
     "metadata": {},
     "output_type": "execute_result"
    }
   ],
   "source": [
    "# Get the range of price\n",
    "\n",
    "listings.price_night.describe()"
   ]
  },
  {
   "cell_type": "code",
   "execution_count": 24,
   "metadata": {},
   "outputs": [
    {
     "data": {
      "text/html": [
       "<div>\n",
       "<style scoped>\n",
       "    .dataframe tbody tr th:only-of-type {\n",
       "        vertical-align: middle;\n",
       "    }\n",
       "\n",
       "    .dataframe tbody tr th {\n",
       "        vertical-align: top;\n",
       "    }\n",
       "\n",
       "    .dataframe thead th {\n",
       "        text-align: right;\n",
       "    }\n",
       "</style>\n",
       "<table border=\"1\" class=\"dataframe\">\n",
       "  <thead>\n",
       "    <tr style=\"text-align: right;\">\n",
       "      <th></th>\n",
       "      <th>id</th>\n",
       "      <th>property_type</th>\n",
       "      <th>room_type</th>\n",
       "      <th>price</th>\n",
       "      <th>minimum_nights</th>\n",
       "      <th>host_id</th>\n",
       "      <th>host_since</th>\n",
       "      <th>host_is_superhost</th>\n",
       "      <th>host_listings_count</th>\n",
       "      <th>host_response_rate</th>\n",
       "      <th>...</th>\n",
       "      <th>review_scores_cleanliness</th>\n",
       "      <th>review_scores_checkin</th>\n",
       "      <th>review_scores_communication</th>\n",
       "      <th>review_scores_location</th>\n",
       "      <th>review_scores_value</th>\n",
       "      <th>reviews_per_month</th>\n",
       "      <th>property_type_rec</th>\n",
       "      <th>superhost</th>\n",
       "      <th>price_rec</th>\n",
       "      <th>price_night</th>\n",
       "    </tr>\n",
       "  </thead>\n",
       "  <tbody>\n",
       "    <tr>\n",
       "      <th>3871</th>\n",
       "      <td>20331804</td>\n",
       "      <td>Condominium</td>\n",
       "      <td>Private room</td>\n",
       "      <td>$0.00</td>\n",
       "      <td>4</td>\n",
       "      <td>17536951</td>\n",
       "      <td>2014-07-02</td>\n",
       "      <td>superhost</td>\n",
       "      <td>4.0</td>\n",
       "      <td>100%</td>\n",
       "      <td>...</td>\n",
       "      <td>10.0</td>\n",
       "      <td>10.0</td>\n",
       "      <td>10.0</td>\n",
       "      <td>10.0</td>\n",
       "      <td>9.0</td>\n",
       "      <td>1.13</td>\n",
       "      <td>Condo/Townhouse</td>\n",
       "      <td>1</td>\n",
       "      <td>0.0</td>\n",
       "      <td>0.0</td>\n",
       "    </tr>\n",
       "    <tr>\n",
       "      <th>7757</th>\n",
       "      <td>37089599</td>\n",
       "      <td>Apartment</td>\n",
       "      <td>Entire home/apt</td>\n",
       "      <td>$0.00</td>\n",
       "      <td>1</td>\n",
       "      <td>143788000</td>\n",
       "      <td>2017-08-01</td>\n",
       "      <td>non-superhost</td>\n",
       "      <td>14.0</td>\n",
       "      <td>68%</td>\n",
       "      <td>...</td>\n",
       "      <td>NaN</td>\n",
       "      <td>NaN</td>\n",
       "      <td>NaN</td>\n",
       "      <td>NaN</td>\n",
       "      <td>NaN</td>\n",
       "      <td>NaN</td>\n",
       "      <td>Apartment</td>\n",
       "      <td>0</td>\n",
       "      <td>0.0</td>\n",
       "      <td>0.0</td>\n",
       "    </tr>\n",
       "  </tbody>\n",
       "</table>\n",
       "<p>2 rows × 23 columns</p>\n",
       "</div>"
      ],
      "text/plain": [
       "            id property_type        room_type  price  minimum_nights  \\\n",
       "3871  20331804   Condominium     Private room  $0.00               4   \n",
       "7757  37089599     Apartment  Entire home/apt  $0.00               1   \n",
       "\n",
       "        host_id  host_since host_is_superhost  host_listings_count  \\\n",
       "3871   17536951  2014-07-02         superhost                  4.0   \n",
       "7757  143788000  2017-08-01     non-superhost                 14.0   \n",
       "\n",
       "     host_response_rate  ...  review_scores_cleanliness  \\\n",
       "3871               100%  ...                       10.0   \n",
       "7757                68%  ...                        NaN   \n",
       "\n",
       "      review_scores_checkin  review_scores_communication  \\\n",
       "3871                   10.0                         10.0   \n",
       "7757                    NaN                          NaN   \n",
       "\n",
       "      review_scores_location  review_scores_value  reviews_per_month  \\\n",
       "3871                    10.0                  9.0               1.13   \n",
       "7757                     NaN                  NaN                NaN   \n",
       "\n",
       "      property_type_rec  superhost  price_rec price_night  \n",
       "3871    Condo/Townhouse          1        0.0         0.0  \n",
       "7757          Apartment          0        0.0         0.0  \n",
       "\n",
       "[2 rows x 23 columns]"
      ]
     },
     "execution_count": 24,
     "metadata": {},
     "output_type": "execute_result"
    }
   ],
   "source": [
    "# Look up the rows that have price of 0.\n",
    "# There are two listings that has price of $0 for night.\n",
    "\n",
    "listings.loc[listings.price_night == 0]"
   ]
  },
  {
   "cell_type": "code",
   "execution_count": 25,
   "metadata": {},
   "outputs": [],
   "source": [
    "# Recoded these listings' price as null. \n",
    "\n",
    "listings['price_night'] = listings['price_night'].apply(lambda x: np.nan if (id == 20331804 or id == 20331804) else x)"
   ]
  },
  {
   "cell_type": "code",
   "execution_count": 26,
   "metadata": {},
   "outputs": [],
   "source": [
    "listings['price_night'] = listings['price_night'].apply(lambda x: np.nan if x == 0 else x)"
   ]
  },
  {
   "cell_type": "code",
   "execution_count": 27,
   "metadata": {},
   "outputs": [
    {
     "data": {
      "image/png": "[encoded data removed]",
      "text/plain": [
       "<Figure size 400x400 with 1 Axes>"
      ]
     },
     "metadata": {},
     "output_type": "display_data"
    }
   ],
   "source": [
    "# Look at the prices across different propety types (recoded): Condo/townhouse is the most expensive property type \n",
    "# The mean price \n",
    "\n",
    "price_diff = listings.groupby('property_type_rec')['price_night'].mean()\n",
    "\n",
    "sns.set()\n",
    "price_diff.plot(title = 'Price Per Night by Property Type', figsize = [4,4], kind = 'bar')\n",
    "plt.xticks(rotation = 45, ha = 'right');"
   ]
  },
  {
   "cell_type": "code",
   "execution_count": 113,
   "metadata": {},
   "outputs": [
    {
     "data": {
      "image/png": "[encoded data removed]",
      "text/plain": [
       "<Figure size 400x400 with 1 Axes>"
      ]
     },
     "metadata": {},
     "output_type": "display_data"
    }
   ],
   "source": [
    "# Look at the prices across different room types is the most expensive property type: \n",
    "# As expected, the shared room type is the least expensive  \n",
    "\n",
    "price_diff = listings.groupby('room_type')['price_night'].mean()\n",
    "\n",
    "sns.set()\n",
    "price_diff.plot(title = 'Price Per Night by Room Type', figsize = [4,4], kind = 'bar', )\n",
    "plt.xticks(rotation = 45, ha = 'right');"
   ]
  },
  {
   "cell_type": "code",
   "execution_count": 29,
   "metadata": {},
   "outputs": [
    {
     "name": "stdout",
     "output_type": "stream",
     "text": [
      "The percentage of host response rates that are 90% or higher is 82.47%.\n"
     ]
    }
   ],
   "source": [
    "# Change the data type of the host_response_rate column from object to int \n",
    "\n",
    "listings['host_response_rate_rec'] = listings['host_response_rate'].dropna().replace('\\D', '', regex = True).astype(int)\n",
    "\n",
    "# Get the percentage of response rates that are 90% or higher \n",
    "\n",
    "response_rate = listings.loc[listings.host_response_rate_rec >= 90]\n",
    "response_rate_percent = response_rate.shape[0]/listings.shape[0]*100\n",
    "\n",
    "print(f'The percentage of host response rates that are 90% or higher is {response_rate_percent:.2f}%.')"
   ]
  },
  {
   "cell_type": "code",
   "execution_count": 30,
   "metadata": {},
   "outputs": [
    {
     "data": {
      "text/plain": [
       "100.0    5368\n",
       "90.0      298\n",
       "95.0      218\n",
       "96.0      196\n",
       "80.0      104\n",
       "Name: host_response_rate_rec, dtype: int64"
      ]
     },
     "execution_count": 30,
     "metadata": {},
     "output_type": "execute_result"
    }
   ],
   "source": [
    "# Check the top 5 response rates\n",
    "\n",
    "listings.host_response_rate_rec.value_counts().head(5) "
   ]
  },
  {
   "cell_type": "code",
   "execution_count": 31,
   "metadata": {},
   "outputs": [
    {
     "data": {
      "text/plain": [
       "30    3163\n",
       "2     1512\n",
       "1     1327\n",
       "3      872\n",
       "4      296\n",
       "Name: minimum_nights, dtype: int64"
      ]
     },
     "execution_count": 31,
     "metadata": {},
     "output_type": "execute_result"
    }
   ],
   "source": [
    "# Get top 5 most popular minimum nights required \n",
    "\n",
    "listings.minimum_nights.value_counts().sort_values(ascending = False).head(5)"
   ]
  },
  {
   "cell_type": "code",
   "execution_count": 32,
   "metadata": {},
   "outputs": [
    {
     "name": "stdout",
     "output_type": "stream",
     "text": [
      "The percentage of listings that have 1-4 nights as minimum is 51.2%.\n"
     ]
    }
   ],
   "source": [
    "# Get the percentage of listings with 1-4 minimum nights, excluding long-term stay _ about 50% of the raw data\n",
    "\n",
    "listings_short = listings.loc[listings.minimum_nights < 5]\n",
    "min_nights_percent = listings_short.shape[0]/listings.shape[0]*100\n",
    "print(f'The percentage of listings that have 1-4 nights as minimum is {min_nights_percent:.1f}%.')\n",
    "\n",
    "# Recode the number of minimum nights: 1 = 1-4 nights; 0 = 5 nights or more \n",
    "\n",
    "listings['minimum_short'] = np.where(listings.minimum_nights < 5, '1', '0')"
   ]
  },
  {
   "cell_type": "code",
   "execution_count": 33,
   "metadata": {},
   "outputs": [
    {
     "name": "stdout",
     "output_type": "stream",
     "text": [
      "The average number of months hosts have been in operation is 4.8 years.\n"
     ]
    }
   ],
   "source": [
    "# Calculate the length of operation by using the start date and the date this data was compiled which is August 6, 2019\n",
    "# Change the data type to date from object\n",
    "\n",
    "listings['date_compiled'] = '2019-08-06'\n",
    "\n",
    "listings['date_compiled'] = pd.to_datetime(listings['date_compiled'], format='%Y-%m-%d')\n",
    "listings['host_since'] = pd.to_datetime(listings['host_since'], format='%Y-%m-%d')\n",
    "\n",
    "# Create a new column for the number of months since the host joined Airbnb\n",
    "listings['op_month'] = (listings['date_compiled'] - listings['host_since'])/np.timedelta64(1, 'M')\n",
    "listings['op_month'] = listings['op_month'].dropna().astype(int)\n",
    "\n",
    "print(f'The average number of months hosts have been in operation is {listings.op_month.mean()/12:.1f} years.')"
   ]
  },
  {
   "cell_type": "code",
   "execution_count": 34,
   "metadata": {},
   "outputs": [],
   "source": [
    "# Create count plots fr two dfs\n",
    "\n",
    "def plot_subsets(df1, df2, columns, title1, title2):\n",
    "    \n",
    "    \"\"\"\n",
    "    This function create countplots to compare two dataframes on multiple columns.\n",
    "    \n",
    "    Input:\n",
    "    df1 - first df for a comparison \n",
    "    df2 - second df for a comparison \n",
    "    columns - columns to compare\n",
    "    title1 - title for data from the first df\n",
    "    title2 - title for data from the second df\n",
    "    \n",
    "    Output:\n",
    "    A plot for each df on each column in columns in a 2 x 6 grid\n",
    "\n",
    "    \"\"\"\n",
    "        \n",
    "    for c in columns:\n",
    "        fig, ax = plt.subplots(1,2, figsize=(8,4))\n",
    "        \n",
    "        # Set colors and remove white edges of bars \n",
    "        sns.countplot(x=df1[c], ax = ax[0], palette = sns.color_palette('hls', n_colors=8), lw=0.)\n",
    "        sns.countplot(x=df2[c], ax = ax[1], palette = sns.color_palette('hls', n_colors=8), lw=0.) \n",
    "        ax[0].set_title(title1)\n",
    "        ax[1].set_title(title2)\n",
    "        fig.subplots_adjust(wspace = 0.6);"
   ]
  },
  {
   "cell_type": "code",
   "execution_count": 35,
   "metadata": {},
   "outputs": [
    {
     "data": {
      "image/png": "[encoded data removed]",
      "text/plain": [
       "<Figure size 800x400 with 2 Axes>"
      ]
     },
     "metadata": {},
     "output_type": "display_data"
    },
    {
     "data": {
      "image/png": "[encoded data removed]",
      "text/plain": [
       "<Figure size 800x400 with 2 Axes>"
      ]
     },
     "metadata": {},
     "output_type": "display_data"
    },
    {
     "data": {
      "image/png": "[encoded data removed]",
      "text/plain": [
       "<Figure size 800x400 with 2 Axes>"
      ]
     },
     "metadata": {},
     "output_type": "display_data"
    },
    {
     "data": {
      "image/png": "[encoded data removed]",
      "text/plain": [
       "<Figure size 800x400 with 2 Axes>"
      ]
     },
     "metadata": {},
     "output_type": "display_data"
    },
    {
     "data": {
      "image/png": "[encoded data removed]",
      "text/plain": [
       "<Figure size 800x400 with 2 Axes>"
      ]
     },
     "metadata": {},
     "output_type": "display_data"
    },
    {
     "data": {
      "image/png": "[encoded data removed]",
      "text/plain": [
       "<Figure size 800x400 with 2 Axes>"
      ]
     },
     "metadata": {},
     "output_type": "display_data"
    }
   ],
   "source": [
    "# Compare the distribution of values for columns to examine differences: superhost vs non-superhosts\n",
    "# In general, no dramatic differences except for the minium number of stays.\n",
    "# Superhosts tend to have fewer number of minimum stays than non-superhosts.\n",
    "\n",
    "super_df = listings.loc[listings.superhost == '1']\n",
    "super_no_df = listings.loc[listings.superhost == '0']\n",
    "  \n",
    "columns = ['price_night', 'host_listings_count', 'number_of_reviews',\\\n",
    "           'review_scores_rating', 'minimum_short', 'op_month']\n",
    "\n",
    "plot_subsets(super_df, super_no_df, columns, 'Superhost', 'Non-Superhost');"
   ]
  },
  {
   "cell_type": "code",
   "execution_count": 36,
   "metadata": {},
   "outputs": [
    {
     "data": {
      "text/plain": [
       "host_is_superhost\n",
       "non-superhost    54.351049\n",
       "superhost        62.091937\n",
       "Name: op_month, dtype: float64"
      ]
     },
     "execution_count": 36,
     "metadata": {},
     "output_type": "execute_result"
    }
   ],
   "source": [
    "# Check the lengh of operation for superhost status: superhosts are in operation for 8 more months on average.\n",
    "\n",
    "listings.groupby('host_is_superhost')['op_month'].mean()"
   ]
  },
  {
   "cell_type": "code",
   "execution_count": 37,
   "metadata": {},
   "outputs": [
    {
     "name": "stdout",
     "output_type": "stream",
     "text": [
      "The percentage of listings that have no reviews is 20.6%\n"
     ]
    }
   ],
   "source": [
    "# Recode the listings based on whether or not they have reviews\n",
    "\n",
    "listings['has_review'] = np.where(listings.review_scores_rating.isnull() == False, '1', '0') \n",
    "\n",
    "# Cehck the percentag of listings with no review scores\n",
    "\n",
    "no_review_scores = listings.review_scores_value.isnull().sum()/listings.shape[0]*100\n",
    "\n",
    "print(f'The percentage of listings that have no reviews is {no_review_scores:.1f}%')"
   ]
  },
  {
   "cell_type": "code",
   "execution_count": 38,
   "metadata": {},
   "outputs": [
    {
     "data": {
      "image/png": "[encoded data removed]",
      "text/plain": [
       "<Figure size 800x400 with 2 Axes>"
      ]
     },
     "metadata": {},
     "output_type": "display_data"
    },
    {
     "data": {
      "image/png": "[encoded data removed]",
      "text/plain": [
       "<Figure size 800x400 with 2 Axes>"
      ]
     },
     "metadata": {},
     "output_type": "display_data"
    },
    {
     "data": {
      "image/png": "[encoded data removed]",
      "text/plain": [
       "<Figure size 800x400 with 2 Axes>"
      ]
     },
     "metadata": {},
     "output_type": "display_data"
    },
    {
     "data": {
      "image/png": "[encoded data removed]",
      "text/plain": [
       "<Figure size 800x400 with 2 Axes>"
      ]
     },
     "metadata": {},
     "output_type": "display_data"
    },
    {
     "data": {
      "image/png": "[encoded data removed]",
      "text/plain": [
       "<Figure size 800x400 with 2 Axes>"
      ]
     },
     "metadata": {},
     "output_type": "display_data"
    }
   ],
   "source": [
    "# Compare the distribution of values for columns to examine differences: reviews vs no reviews\n",
    "# In general, there are differences between these two groups.\n",
    "\n",
    "review_df = listings.loc[listings.has_review == '1']\n",
    "review_no_df = listings.loc[listings.has_review == '0']\n",
    "\n",
    "columns = ['price_night', 'host_listings_count', 'minimum_short', 'op_month', 'superhost']\n",
    "\n",
    "plot_subsets(review_df, review_no_df, columns, 'Reviews', 'No Reviews')"
   ]
  },
  {
   "cell_type": "code",
   "execution_count": 39,
   "metadata": {},
   "outputs": [],
   "source": [
    "# Recode the minium nights again to numeric variable\n",
    "listings['minimum_short'] = np.where(listings.minimum_nights < 5, 1, 0)"
   ]
  },
  {
   "cell_type": "code",
   "execution_count": 40,
   "metadata": {},
   "outputs": [
    {
     "data": {
      "text/plain": [
       "has_review\n",
       "0    44.062850\n",
       "1    61.294618\n",
       "Name: op_month, dtype: float64"
      ]
     },
     "execution_count": 40,
     "metadata": {},
     "output_type": "execute_result"
    }
   ],
   "source": [
    "# Check the length of operation\n",
    "# Listings with reviews on average has been in operation for a year longer.\n",
    "\n",
    "listings.groupby('has_review')['op_month'].mean()"
   ]
  },
  {
   "cell_type": "code",
   "execution_count": 41,
   "metadata": {},
   "outputs": [
    {
     "data": {
      "text/html": [
       "<div>\n",
       "<style scoped>\n",
       "    .dataframe tbody tr th:only-of-type {\n",
       "        vertical-align: middle;\n",
       "    }\n",
       "\n",
       "    .dataframe tbody tr th {\n",
       "        vertical-align: top;\n",
       "    }\n",
       "\n",
       "    .dataframe thead th {\n",
       "        text-align: right;\n",
       "    }\n",
       "</style>\n",
       "<table border=\"1\" class=\"dataframe\">\n",
       "  <thead>\n",
       "    <tr style=\"text-align: right;\">\n",
       "      <th>has_review</th>\n",
       "      <th>0</th>\n",
       "      <th>1</th>\n",
       "    </tr>\n",
       "    <tr>\n",
       "      <th>minimum_short</th>\n",
       "      <th></th>\n",
       "      <th></th>\n",
       "    </tr>\n",
       "  </thead>\n",
       "  <tbody>\n",
       "    <tr>\n",
       "      <th>0</th>\n",
       "      <td>1369</td>\n",
       "      <td>2457</td>\n",
       "    </tr>\n",
       "    <tr>\n",
       "      <th>1</th>\n",
       "      <td>238</td>\n",
       "      <td>3769</td>\n",
       "    </tr>\n",
       "  </tbody>\n",
       "</table>\n",
       "</div>"
      ],
      "text/plain": [
       "has_review        0     1\n",
       "minimum_short            \n",
       "0              1369  2457\n",
       "1               238  3769"
      ]
     },
     "execution_count": 41,
     "metadata": {},
     "output_type": "execute_result"
    }
   ],
   "source": [
    "# Check the crosstab. \n",
    "# It looks like the listings with no reviews require longer term stays.\n",
    "\n",
    "pd.crosstab(listings.minimum_short, listings.has_review)"
   ]
  },
  {
   "cell_type": "code",
   "execution_count": 42,
   "metadata": {},
   "outputs": [
    {
     "data": {
      "text/html": [
       "<div>\n",
       "<style scoped>\n",
       "    .dataframe tbody tr th:only-of-type {\n",
       "        vertical-align: middle;\n",
       "    }\n",
       "\n",
       "    .dataframe tbody tr th {\n",
       "        vertical-align: top;\n",
       "    }\n",
       "\n",
       "    .dataframe thead th {\n",
       "        text-align: right;\n",
       "    }\n",
       "</style>\n",
       "<table border=\"1\" class=\"dataframe\">\n",
       "  <thead>\n",
       "    <tr style=\"text-align: right;\">\n",
       "      <th>has_review</th>\n",
       "      <th>0</th>\n",
       "      <th>1</th>\n",
       "    </tr>\n",
       "    <tr>\n",
       "      <th>superhost</th>\n",
       "      <th></th>\n",
       "      <th></th>\n",
       "    </tr>\n",
       "  </thead>\n",
       "  <tbody>\n",
       "    <tr>\n",
       "      <th>0</th>\n",
       "      <td>1294</td>\n",
       "      <td>3091</td>\n",
       "    </tr>\n",
       "    <tr>\n",
       "      <th>1</th>\n",
       "      <td>313</td>\n",
       "      <td>3135</td>\n",
       "    </tr>\n",
       "  </tbody>\n",
       "</table>\n",
       "</div>"
      ],
      "text/plain": [
       "has_review     0     1\n",
       "superhost             \n",
       "0           1294  3091\n",
       "1            313  3135"
      ]
     },
     "execution_count": 42,
     "metadata": {},
     "output_type": "execute_result"
    }
   ],
   "source": [
    "# Check the crosstab\n",
    "# It is odd that there are superhosts with no reviews because review scores are one of the superhost criteria (4%)\n",
    "\n",
    "pd.crosstab(listings.superhost, listings.has_review)"
   ]
  },
  {
   "cell_type": "code",
   "execution_count": 43,
   "metadata": {},
   "outputs": [
    {
     "data": {
      "text/html": [
       "<div>\n",
       "<style scoped>\n",
       "    .dataframe tbody tr th:only-of-type {\n",
       "        vertical-align: middle;\n",
       "    }\n",
       "\n",
       "    .dataframe tbody tr th {\n",
       "        vertical-align: top;\n",
       "    }\n",
       "\n",
       "    .dataframe thead th {\n",
       "        text-align: right;\n",
       "    }\n",
       "</style>\n",
       "<table border=\"1\" class=\"dataframe\">\n",
       "  <thead>\n",
       "    <tr style=\"text-align: right;\">\n",
       "      <th></th>\n",
       "      <th>id</th>\n",
       "      <th>property_type</th>\n",
       "      <th>room_type</th>\n",
       "      <th>host_id</th>\n",
       "      <th>host_listings_count</th>\n",
       "      <th>number_of_reviews</th>\n",
       "      <th>review_scores_rating</th>\n",
       "      <th>review_scores_accuracy</th>\n",
       "      <th>review_scores_cleanliness</th>\n",
       "      <th>review_scores_checkin</th>\n",
       "      <th>...</th>\n",
       "      <th>review_scores_location</th>\n",
       "      <th>review_scores_value</th>\n",
       "      <th>reviews_per_month</th>\n",
       "      <th>property_type_rec</th>\n",
       "      <th>superhost</th>\n",
       "      <th>price_night</th>\n",
       "      <th>host_response_rate_rec</th>\n",
       "      <th>minimum_short</th>\n",
       "      <th>op_month</th>\n",
       "      <th>has_review</th>\n",
       "    </tr>\n",
       "  </thead>\n",
       "  <tbody>\n",
       "    <tr>\n",
       "      <th>0</th>\n",
       "      <td>958</td>\n",
       "      <td>Apartment</td>\n",
       "      <td>Entire home/apt</td>\n",
       "      <td>1169</td>\n",
       "      <td>1.0</td>\n",
       "      <td>199</td>\n",
       "      <td>97.0</td>\n",
       "      <td>10.0</td>\n",
       "      <td>10.0</td>\n",
       "      <td>10.0</td>\n",
       "      <td>...</td>\n",
       "      <td>10.0</td>\n",
       "      <td>9.0</td>\n",
       "      <td>1.63</td>\n",
       "      <td>Apartment</td>\n",
       "      <td>1</td>\n",
       "      <td>170.0</td>\n",
       "      <td>90.0</td>\n",
       "      <td>1</td>\n",
       "      <td>132.0</td>\n",
       "      <td>1</td>\n",
       "    </tr>\n",
       "    <tr>\n",
       "      <th>1</th>\n",
       "      <td>3850</td>\n",
       "      <td>House</td>\n",
       "      <td>Private room</td>\n",
       "      <td>4921</td>\n",
       "      <td>2.0</td>\n",
       "      <td>136</td>\n",
       "      <td>94.0</td>\n",
       "      <td>9.0</td>\n",
       "      <td>9.0</td>\n",
       "      <td>10.0</td>\n",
       "      <td>...</td>\n",
       "      <td>9.0</td>\n",
       "      <td>9.0</td>\n",
       "      <td>1.11</td>\n",
       "      <td>House</td>\n",
       "      <td>1</td>\n",
       "      <td>99.0</td>\n",
       "      <td>100.0</td>\n",
       "      <td>1</td>\n",
       "      <td>127.0</td>\n",
       "      <td>1</td>\n",
       "    </tr>\n",
       "    <tr>\n",
       "      <th>2</th>\n",
       "      <td>5858</td>\n",
       "      <td>Apartment</td>\n",
       "      <td>Entire home/apt</td>\n",
       "      <td>8904</td>\n",
       "      <td>2.0</td>\n",
       "      <td>111</td>\n",
       "      <td>98.0</td>\n",
       "      <td>10.0</td>\n",
       "      <td>10.0</td>\n",
       "      <td>10.0</td>\n",
       "      <td>...</td>\n",
       "      <td>10.0</td>\n",
       "      <td>9.0</td>\n",
       "      <td>0.89</td>\n",
       "      <td>Apartment</td>\n",
       "      <td>0</td>\n",
       "      <td>235.0</td>\n",
       "      <td>67.0</td>\n",
       "      <td>0</td>\n",
       "      <td>125.0</td>\n",
       "      <td>1</td>\n",
       "    </tr>\n",
       "    <tr>\n",
       "      <th>3</th>\n",
       "      <td>7918</td>\n",
       "      <td>Apartment</td>\n",
       "      <td>Private room</td>\n",
       "      <td>21994</td>\n",
       "      <td>10.0</td>\n",
       "      <td>17</td>\n",
       "      <td>85.0</td>\n",
       "      <td>8.0</td>\n",
       "      <td>8.0</td>\n",
       "      <td>9.0</td>\n",
       "      <td>...</td>\n",
       "      <td>9.0</td>\n",
       "      <td>8.0</td>\n",
       "      <td>0.14</td>\n",
       "      <td>Apartment</td>\n",
       "      <td>1</td>\n",
       "      <td>65.0</td>\n",
       "      <td>100.0</td>\n",
       "      <td>0</td>\n",
       "      <td>121.0</td>\n",
       "      <td>1</td>\n",
       "    </tr>\n",
       "    <tr>\n",
       "      <th>4</th>\n",
       "      <td>8142</td>\n",
       "      <td>Apartment</td>\n",
       "      <td>Private room</td>\n",
       "      <td>21994</td>\n",
       "      <td>10.0</td>\n",
       "      <td>8</td>\n",
       "      <td>93.0</td>\n",
       "      <td>9.0</td>\n",
       "      <td>9.0</td>\n",
       "      <td>10.0</td>\n",
       "      <td>...</td>\n",
       "      <td>9.0</td>\n",
       "      <td>9.0</td>\n",
       "      <td>0.13</td>\n",
       "      <td>Apartment</td>\n",
       "      <td>1</td>\n",
       "      <td>65.0</td>\n",
       "      <td>100.0</td>\n",
       "      <td>0</td>\n",
       "      <td>121.0</td>\n",
       "      <td>1</td>\n",
       "    </tr>\n",
       "  </tbody>\n",
       "</table>\n",
       "<p>5 rows × 21 columns</p>\n",
       "</div>"
      ],
      "text/plain": [
       "     id property_type        room_type  host_id  host_listings_count  \\\n",
       "0   958     Apartment  Entire home/apt     1169                  1.0   \n",
       "1  3850         House     Private room     4921                  2.0   \n",
       "2  5858     Apartment  Entire home/apt     8904                  2.0   \n",
       "3  7918     Apartment     Private room    21994                 10.0   \n",
       "4  8142     Apartment     Private room    21994                 10.0   \n",
       "\n",
       "   number_of_reviews  review_scores_rating  review_scores_accuracy  \\\n",
       "0                199                  97.0                    10.0   \n",
       "1                136                  94.0                     9.0   \n",
       "2                111                  98.0                    10.0   \n",
       "3                 17                  85.0                     8.0   \n",
       "4                  8                  93.0                     9.0   \n",
       "\n",
       "   review_scores_cleanliness  review_scores_checkin  ...  \\\n",
       "0                       10.0                   10.0  ...   \n",
       "1                        9.0                   10.0  ...   \n",
       "2                       10.0                   10.0  ...   \n",
       "3                        8.0                    9.0  ...   \n",
       "4                        9.0                   10.0  ...   \n",
       "\n",
       "   review_scores_location  review_scores_value  reviews_per_month  \\\n",
       "0                    10.0                  9.0               1.63   \n",
       "1                     9.0                  9.0               1.11   \n",
       "2                    10.0                  9.0               0.89   \n",
       "3                     9.0                  8.0               0.14   \n",
       "4                     9.0                  9.0               0.13   \n",
       "\n",
       "   property_type_rec superhost price_night  host_response_rate_rec  \\\n",
       "0          Apartment         1       170.0                    90.0   \n",
       "1              House         1        99.0                   100.0   \n",
       "2          Apartment         0       235.0                    67.0   \n",
       "3          Apartment         1        65.0                   100.0   \n",
       "4          Apartment         1        65.0                   100.0   \n",
       "\n",
       "   minimum_short  op_month  has_review  \n",
       "0              1     132.0           1  \n",
       "1              1     127.0           1  \n",
       "2              0     125.0           1  \n",
       "3              0     121.0           1  \n",
       "4              0     121.0           1  \n",
       "\n",
       "[5 rows x 21 columns]"
      ]
     },
     "execution_count": 43,
     "metadata": {},
     "output_type": "execute_result"
    }
   ],
   "source": [
    "# Drop columns that are not needed for anlaysis: Original columns that were recoded and listings with outliers\n",
    "\n",
    "listings_final = listings.drop(['price', 'price_rec', 'host_since', 'host_is_superhost', 'minimum_nights', 'host_response_rate', 'date_compiled'],  axis=1)\n",
    "listings_final = listings_final.loc[listings_final.price_night.isnull() == False]\n",
    "\n",
    "listings_final.head()"
   ]
  },
  {
   "cell_type": "code",
   "execution_count": 44,
   "metadata": {},
   "outputs": [
    {
     "data": {
      "text/html": [
       "<div>\n",
       "<style scoped>\n",
       "    .dataframe tbody tr th:only-of-type {\n",
       "        vertical-align: middle;\n",
       "    }\n",
       "\n",
       "    .dataframe tbody tr th {\n",
       "        vertical-align: top;\n",
       "    }\n",
       "\n",
       "    .dataframe thead th {\n",
       "        text-align: right;\n",
       "    }\n",
       "</style>\n",
       "<table border=\"1\" class=\"dataframe\">\n",
       "  <thead>\n",
       "    <tr style=\"text-align: right;\">\n",
       "      <th></th>\n",
       "      <th>host_listings_count</th>\n",
       "      <th>number_of_reviews</th>\n",
       "      <th>review_scores_rating</th>\n",
       "      <th>review_scores_accuracy</th>\n",
       "      <th>review_scores_cleanliness</th>\n",
       "      <th>review_scores_checkin</th>\n",
       "      <th>review_scores_communication</th>\n",
       "      <th>review_scores_location</th>\n",
       "      <th>review_scores_value</th>\n",
       "      <th>reviews_per_month</th>\n",
       "      <th>price_night</th>\n",
       "      <th>host_response_rate_rec</th>\n",
       "      <th>minimum_short</th>\n",
       "      <th>op_month</th>\n",
       "    </tr>\n",
       "  </thead>\n",
       "  <tbody>\n",
       "    <tr>\n",
       "      <th>count</th>\n",
       "      <td>7720.000000</td>\n",
       "      <td>7721.000000</td>\n",
       "      <td>6149.000000</td>\n",
       "      <td>6145.000000</td>\n",
       "      <td>6146.000000</td>\n",
       "      <td>6143.000000</td>\n",
       "      <td>6147.000000</td>\n",
       "      <td>6143.000000</td>\n",
       "      <td>6143.000000</td>\n",
       "      <td>6197.000000</td>\n",
       "      <td>7721.000000</td>\n",
       "      <td>6952.000000</td>\n",
       "      <td>7721.000000</td>\n",
       "      <td>7720.000000</td>\n",
       "    </tr>\n",
       "    <tr>\n",
       "      <th>mean</th>\n",
       "      <td>81.773705</td>\n",
       "      <td>45.282865</td>\n",
       "      <td>95.576191</td>\n",
       "      <td>9.766477</td>\n",
       "      <td>9.621868</td>\n",
       "      <td>9.858701</td>\n",
       "      <td>9.835367</td>\n",
       "      <td>9.684031</td>\n",
       "      <td>9.405014</td>\n",
       "      <td>1.861870</td>\n",
       "      <td>195.556534</td>\n",
       "      <td>96.244822</td>\n",
       "      <td>0.509131</td>\n",
       "      <td>57.768523</td>\n",
       "    </tr>\n",
       "    <tr>\n",
       "      <th>std</th>\n",
       "      <td>283.351923</td>\n",
       "      <td>76.984303</td>\n",
       "      <td>7.236451</td>\n",
       "      <td>0.694788</td>\n",
       "      <td>0.808339</td>\n",
       "      <td>0.540353</td>\n",
       "      <td>0.608460</td>\n",
       "      <td>0.711320</td>\n",
       "      <td>0.829912</td>\n",
       "      <td>2.043019</td>\n",
       "      <td>147.929092</td>\n",
       "      <td>11.855744</td>\n",
       "      <td>0.499949</td>\n",
       "      <td>28.999572</td>\n",
       "    </tr>\n",
       "    <tr>\n",
       "      <th>min</th>\n",
       "      <td>0.000000</td>\n",
       "      <td>0.000000</td>\n",
       "      <td>20.000000</td>\n",
       "      <td>2.000000</td>\n",
       "      <td>2.000000</td>\n",
       "      <td>2.000000</td>\n",
       "      <td>2.000000</td>\n",
       "      <td>2.000000</td>\n",
       "      <td>2.000000</td>\n",
       "      <td>0.010000</td>\n",
       "      <td>10.000000</td>\n",
       "      <td>0.000000</td>\n",
       "      <td>0.000000</td>\n",
       "      <td>0.000000</td>\n",
       "    </tr>\n",
       "    <tr>\n",
       "      <th>25%</th>\n",
       "      <td>1.000000</td>\n",
       "      <td>1.000000</td>\n",
       "      <td>95.000000</td>\n",
       "      <td>10.000000</td>\n",
       "      <td>9.000000</td>\n",
       "      <td>10.000000</td>\n",
       "      <td>10.000000</td>\n",
       "      <td>10.000000</td>\n",
       "      <td>9.000000</td>\n",
       "      <td>0.310000</td>\n",
       "      <td>100.000000</td>\n",
       "      <td>100.000000</td>\n",
       "      <td>0.000000</td>\n",
       "      <td>36.000000</td>\n",
       "    </tr>\n",
       "    <tr>\n",
       "      <th>50%</th>\n",
       "      <td>2.000000</td>\n",
       "      <td>11.000000</td>\n",
       "      <td>98.000000</td>\n",
       "      <td>10.000000</td>\n",
       "      <td>10.000000</td>\n",
       "      <td>10.000000</td>\n",
       "      <td>10.000000</td>\n",
       "      <td>10.000000</td>\n",
       "      <td>10.000000</td>\n",
       "      <td>1.050000</td>\n",
       "      <td>150.000000</td>\n",
       "      <td>100.000000</td>\n",
       "      <td>1.000000</td>\n",
       "      <td>59.000000</td>\n",
       "    </tr>\n",
       "    <tr>\n",
       "      <th>75%</th>\n",
       "      <td>10.000000</td>\n",
       "      <td>56.000000</td>\n",
       "      <td>100.000000</td>\n",
       "      <td>10.000000</td>\n",
       "      <td>10.000000</td>\n",
       "      <td>10.000000</td>\n",
       "      <td>10.000000</td>\n",
       "      <td>10.000000</td>\n",
       "      <td>10.000000</td>\n",
       "      <td>2.820000</td>\n",
       "      <td>240.000000</td>\n",
       "      <td>100.000000</td>\n",
       "      <td>1.000000</td>\n",
       "      <td>80.000000</td>\n",
       "    </tr>\n",
       "    <tr>\n",
       "      <th>max</th>\n",
       "      <td>1465.000000</td>\n",
       "      <td>730.000000</td>\n",
       "      <td>100.000000</td>\n",
       "      <td>10.000000</td>\n",
       "      <td>10.000000</td>\n",
       "      <td>10.000000</td>\n",
       "      <td>10.000000</td>\n",
       "      <td>10.000000</td>\n",
       "      <td>10.000000</td>\n",
       "      <td>18.610000</td>\n",
       "      <td>999.000000</td>\n",
       "      <td>100.000000</td>\n",
       "      <td>1.000000</td>\n",
       "      <td>137.000000</td>\n",
       "    </tr>\n",
       "  </tbody>\n",
       "</table>\n",
       "</div>"
      ],
      "text/plain": [
       "       host_listings_count  number_of_reviews  review_scores_rating  \\\n",
       "count          7720.000000        7721.000000           6149.000000   \n",
       "mean             81.773705          45.282865             95.576191   \n",
       "std             283.351923          76.984303              7.236451   \n",
       "min               0.000000           0.000000             20.000000   \n",
       "25%               1.000000           1.000000             95.000000   \n",
       "50%               2.000000          11.000000             98.000000   \n",
       "75%              10.000000          56.000000            100.000000   \n",
       "max            1465.000000         730.000000            100.000000   \n",
       "\n",
       "       review_scores_accuracy  review_scores_cleanliness  \\\n",
       "count             6145.000000                6146.000000   \n",
       "mean                 9.766477                   9.621868   \n",
       "std                  0.694788                   0.808339   \n",
       "min                  2.000000                   2.000000   \n",
       "25%                 10.000000                   9.000000   \n",
       "50%                 10.000000                  10.000000   \n",
       "75%                 10.000000                  10.000000   \n",
       "max                 10.000000                  10.000000   \n",
       "\n",
       "       review_scores_checkin  review_scores_communication  \\\n",
       "count            6143.000000                  6147.000000   \n",
       "mean                9.858701                     9.835367   \n",
       "std                 0.540353                     0.608460   \n",
       "min                 2.000000                     2.000000   \n",
       "25%                10.000000                    10.000000   \n",
       "50%                10.000000                    10.000000   \n",
       "75%                10.000000                    10.000000   \n",
       "max                10.000000                    10.000000   \n",
       "\n",
       "       review_scores_location  review_scores_value  reviews_per_month  \\\n",
       "count             6143.000000          6143.000000        6197.000000   \n",
       "mean                 9.684031             9.405014           1.861870   \n",
       "std                  0.711320             0.829912           2.043019   \n",
       "min                  2.000000             2.000000           0.010000   \n",
       "25%                 10.000000             9.000000           0.310000   \n",
       "50%                 10.000000            10.000000           1.050000   \n",
       "75%                 10.000000            10.000000           2.820000   \n",
       "max                 10.000000            10.000000          18.610000   \n",
       "\n",
       "       price_night  host_response_rate_rec  minimum_short     op_month  \n",
       "count  7721.000000             6952.000000    7721.000000  7720.000000  \n",
       "mean    195.556534               96.244822       0.509131    57.768523  \n",
       "std     147.929092               11.855744       0.499949    28.999572  \n",
       "min      10.000000                0.000000       0.000000     0.000000  \n",
       "25%     100.000000              100.000000       0.000000    36.000000  \n",
       "50%     150.000000              100.000000       1.000000    59.000000  \n",
       "75%     240.000000              100.000000       1.000000    80.000000  \n",
       "max     999.000000              100.000000       1.000000   137.000000  "
      ]
     },
     "execution_count": 44,
     "metadata": {},
     "output_type": "execute_result"
    }
   ],
   "source": [
    "# Get stats for numeric variables\n",
    "\n",
    "listings_final.drop(listings_final.iloc[:, 0:4], axis = 1).describe()"
   ]
  },
  {
   "cell_type": "code",
   "execution_count": 45,
   "metadata": {},
   "outputs": [
    {
     "data": {
      "text/plain": [
       "195"
      ]
     },
     "execution_count": 45,
     "metadata": {},
     "output_type": "execute_result"
    }
   ],
   "source": [
    "# There are 195 hosts with a 0 listing\n",
    "# Unclear why there are 0's. Possibly error or could be no activie listing  \n",
    "\n",
    "(listings_final.host_listings_count == 0).sum()"
   ]
  },
  {
   "cell_type": "code",
   "execution_count": 46,
   "metadata": {},
   "outputs": [
    {
     "name": "stdout",
     "output_type": "stream",
     "text": [
      "There are 7721 listings and 21 features in the filnal listing dataframe.\n"
     ]
    }
   ],
   "source": [
    "# Get the shape of the final listing df\n",
    "\n",
    "print(f'There are {listings_final.shape[0]} listings and {listings_final.shape[1]} features in the filnal listing dataframe.')"
   ]
  },
  {
   "cell_type": "markdown",
   "metadata": {},
   "source": [
    "#### Examine the distribution and correlations among variables"
   ]
  },
  {
   "cell_type": "code",
   "execution_count": 47,
   "metadata": {},
   "outputs": [
    {
     "data": {
      "image/png": "[encoded data removed]",
      "text/plain": [
       "<Figure size 800x600 with 6 Axes>"
      ]
     },
     "metadata": {},
     "output_type": "display_data"
    }
   ],
   "source": [
    "# Get the list of columns that could be related. Note that price per night can actually fluctuate throughout the year\n",
    "\n",
    "listings_cor = listings_final[['price_night', 'host_listings_count', 'number_of_reviews',\n",
    "       'review_scores_rating', 'minimum_short', 'op_month']] \n",
    "\n",
    "listings_cor.hist(alpha=0.5, figsize=(8, 6), facecolor='g')\n",
    "plt.tight_layout()\n",
    "plt.show(); "
   ]
  },
  {
   "cell_type": "code",
   "execution_count": 111,
   "metadata": {},
   "outputs": [
    {
     "data": {
      "image/png": "[encoded data removed]",
      "text/plain": [
       "<Figure size 500x400 with 2 Axes>"
      ]
     },
     "metadata": {},
     "output_type": "display_data"
    }
   ],
   "source": [
    "# Look at the heatmap of the features\n",
    "\n",
    "plt.figure(figsize=(5, 4))\n",
    "sns.heatmap(listings_cor.corr(), annot = True, fmt = '.2f');"
   ]
  },
  {
   "cell_type": "code",
   "execution_count": 49,
   "metadata": {},
   "outputs": [],
   "source": [
    "# Rename the id column in the listing_sub df to 'listing_id' to merge it with the reviews df\n",
    "\n",
    "listings_final.rename(columns={'id': 'listing_id'}, inplace=True)"
   ]
  },
  {
   "cell_type": "code",
   "execution_count": 50,
   "metadata": {},
   "outputs": [],
   "source": [
    "# Save the cleaned listings file\n",
    "\n",
    "# listings_final.to_csv('airbnb_listings_cleaned_coded.csv')"
   ]
  },
  {
   "cell_type": "markdown",
   "metadata": {},
   "source": [
    "### Pre-process the review data"
   ]
  },
  {
   "cell_type": "code",
   "execution_count": 51,
   "metadata": {},
   "outputs": [
    {
     "data": {
      "text/html": [
       "<div>\n",
       "<style scoped>\n",
       "    .dataframe tbody tr th:only-of-type {\n",
       "        vertical-align: middle;\n",
       "    }\n",
       "\n",
       "    .dataframe tbody tr th {\n",
       "        vertical-align: top;\n",
       "    }\n",
       "\n",
       "    .dataframe thead th {\n",
       "        text-align: right;\n",
       "    }\n",
       "</style>\n",
       "<table border=\"1\" class=\"dataframe\">\n",
       "  <thead>\n",
       "    <tr style=\"text-align: right;\">\n",
       "      <th></th>\n",
       "      <th>listing_id</th>\n",
       "      <th>id</th>\n",
       "      <th>date</th>\n",
       "      <th>reviewer_id</th>\n",
       "      <th>reviewer_name</th>\n",
       "      <th>comments</th>\n",
       "    </tr>\n",
       "  </thead>\n",
       "  <tbody>\n",
       "    <tr>\n",
       "      <th>0</th>\n",
       "      <td>958</td>\n",
       "      <td>5977</td>\n",
       "      <td>2009-07-23</td>\n",
       "      <td>15695</td>\n",
       "      <td>Edmund C</td>\n",
       "      <td>Our experience was, without a doubt, a five st...</td>\n",
       "    </tr>\n",
       "    <tr>\n",
       "      <th>1</th>\n",
       "      <td>958</td>\n",
       "      <td>6660</td>\n",
       "      <td>2009-08-03</td>\n",
       "      <td>26145</td>\n",
       "      <td>Simon</td>\n",
       "      <td>Returning to San Francisco is a rejuvenating t...</td>\n",
       "    </tr>\n",
       "    <tr>\n",
       "      <th>2</th>\n",
       "      <td>958</td>\n",
       "      <td>11519</td>\n",
       "      <td>2009-09-27</td>\n",
       "      <td>25839</td>\n",
       "      <td>Denis</td>\n",
       "      <td>We were very pleased with the accommodations a...</td>\n",
       "    </tr>\n",
       "    <tr>\n",
       "      <th>3</th>\n",
       "      <td>958</td>\n",
       "      <td>16282</td>\n",
       "      <td>2009-11-05</td>\n",
       "      <td>33750</td>\n",
       "      <td>Anna</td>\n",
       "      <td>We highly recommend this accomodation and agre...</td>\n",
       "    </tr>\n",
       "    <tr>\n",
       "      <th>4</th>\n",
       "      <td>958</td>\n",
       "      <td>26008</td>\n",
       "      <td>2010-02-13</td>\n",
       "      <td>15416</td>\n",
       "      <td>Venetia</td>\n",
       "      <td>Holly's place was great. It was exactly what I...</td>\n",
       "    </tr>\n",
       "  </tbody>\n",
       "</table>\n",
       "</div>"
      ],
      "text/plain": [
       "   listing_id     id        date  reviewer_id reviewer_name  \\\n",
       "0         958   5977  2009-07-23        15695      Edmund C   \n",
       "1         958   6660  2009-08-03        26145         Simon   \n",
       "2         958  11519  2009-09-27        25839         Denis   \n",
       "3         958  16282  2009-11-05        33750          Anna   \n",
       "4         958  26008  2010-02-13        15416       Venetia   \n",
       "\n",
       "                                            comments  \n",
       "0  Our experience was, without a doubt, a five st...  \n",
       "1  Returning to San Francisco is a rejuvenating t...  \n",
       "2  We were very pleased with the accommodations a...  \n",
       "3  We highly recommend this accomodation and agre...  \n",
       "4  Holly's place was great. It was exactly what I...  "
      ]
     },
     "execution_count": 51,
     "metadata": {},
     "output_type": "execute_result"
    }
   ],
   "source": [
    "# Load the reviews data for the Airbnb Sanfrancisco area\n",
    "\n",
    "reviews_path = git_path + 'reviews.csv.gz'\n",
    "\n",
    "reviews_raw = pd.read_csv(reviews_path)\n",
    "\n",
    "reviews_raw.head()"
   ]
  },
  {
   "cell_type": "code",
   "execution_count": 52,
   "metadata": {},
   "outputs": [
    {
     "name": "stdout",
     "output_type": "stream",
     "text": [
      "There are 350884 reviews and 6 features in the San Feancisco Airbnb review data file.\n"
     ]
    }
   ],
   "source": [
    "# check the shape of the listings dataframe \n",
    "\n",
    "print(f'There are {reviews_raw.shape[0]} reviews and {reviews_raw.shape[1]} features in the San Feancisco Airbnb review data file.')"
   ]
  },
  {
   "cell_type": "code",
   "execution_count": 53,
   "metadata": {},
   "outputs": [
    {
     "data": {
      "text/plain": [
       "listing_id         0\n",
       "id                 0\n",
       "date               0\n",
       "reviewer_id        0\n",
       "reviewer_name      1\n",
       "comments         105\n",
       "dtype: int64"
      ]
     },
     "execution_count": 53,
     "metadata": {},
     "output_type": "execute_result"
    }
   ],
   "source": [
    "# Check the null values\n",
    "\n",
    "reviews_raw.isnull().sum()"
   ]
  },
  {
   "cell_type": "code",
   "execution_count": 54,
   "metadata": {},
   "outputs": [],
   "source": [
    "# Code gender of the reviewer using the gender guesser tool\n",
    "\n",
    "gd = gender.Detector()\n",
    "\n",
    "# for row in reviews_raw.reviewer_name:\n",
    "\n",
    "reviews_raw['reviewer_gender'] = reviews_raw['reviewer_name'].apply(lambda x: gd.get_gender(x))"
   ]
  },
  {
   "cell_type": "code",
   "execution_count": 55,
   "metadata": {},
   "outputs": [
    {
     "data": {
      "text/html": [
       "<div>\n",
       "<style scoped>\n",
       "    .dataframe tbody tr th:only-of-type {\n",
       "        vertical-align: middle;\n",
       "    }\n",
       "\n",
       "    .dataframe tbody tr th {\n",
       "        vertical-align: top;\n",
       "    }\n",
       "\n",
       "    .dataframe thead th {\n",
       "        text-align: right;\n",
       "    }\n",
       "</style>\n",
       "<table border=\"1\" class=\"dataframe\">\n",
       "  <thead>\n",
       "    <tr style=\"text-align: right;\">\n",
       "      <th></th>\n",
       "      <th>listing_id</th>\n",
       "      <th>id</th>\n",
       "      <th>date</th>\n",
       "      <th>reviewer_id</th>\n",
       "      <th>reviewer_name</th>\n",
       "      <th>comments</th>\n",
       "      <th>reviewer_gender</th>\n",
       "    </tr>\n",
       "  </thead>\n",
       "  <tbody>\n",
       "    <tr>\n",
       "      <th>0</th>\n",
       "      <td>958</td>\n",
       "      <td>5977</td>\n",
       "      <td>2009-07-23</td>\n",
       "      <td>15695</td>\n",
       "      <td>Edmund C</td>\n",
       "      <td>Our experience was, without a doubt, a five st...</td>\n",
       "      <td>unknown</td>\n",
       "    </tr>\n",
       "    <tr>\n",
       "      <th>1</th>\n",
       "      <td>958</td>\n",
       "      <td>6660</td>\n",
       "      <td>2009-08-03</td>\n",
       "      <td>26145</td>\n",
       "      <td>Simon</td>\n",
       "      <td>Returning to San Francisco is a rejuvenating t...</td>\n",
       "      <td>male</td>\n",
       "    </tr>\n",
       "    <tr>\n",
       "      <th>2</th>\n",
       "      <td>958</td>\n",
       "      <td>11519</td>\n",
       "      <td>2009-09-27</td>\n",
       "      <td>25839</td>\n",
       "      <td>Denis</td>\n",
       "      <td>We were very pleased with the accommodations a...</td>\n",
       "      <td>male</td>\n",
       "    </tr>\n",
       "    <tr>\n",
       "      <th>3</th>\n",
       "      <td>958</td>\n",
       "      <td>16282</td>\n",
       "      <td>2009-11-05</td>\n",
       "      <td>33750</td>\n",
       "      <td>Anna</td>\n",
       "      <td>We highly recommend this accomodation and agre...</td>\n",
       "      <td>female</td>\n",
       "    </tr>\n",
       "    <tr>\n",
       "      <th>4</th>\n",
       "      <td>958</td>\n",
       "      <td>26008</td>\n",
       "      <td>2010-02-13</td>\n",
       "      <td>15416</td>\n",
       "      <td>Venetia</td>\n",
       "      <td>Holly's place was great. It was exactly what I...</td>\n",
       "      <td>female</td>\n",
       "    </tr>\n",
       "  </tbody>\n",
       "</table>\n",
       "</div>"
      ],
      "text/plain": [
       "   listing_id     id        date  reviewer_id reviewer_name  \\\n",
       "0         958   5977  2009-07-23        15695      Edmund C   \n",
       "1         958   6660  2009-08-03        26145         Simon   \n",
       "2         958  11519  2009-09-27        25839         Denis   \n",
       "3         958  16282  2009-11-05        33750          Anna   \n",
       "4         958  26008  2010-02-13        15416       Venetia   \n",
       "\n",
       "                                            comments reviewer_gender  \n",
       "0  Our experience was, without a doubt, a five st...         unknown  \n",
       "1  Returning to San Francisco is a rejuvenating t...            male  \n",
       "2  We were very pleased with the accommodations a...            male  \n",
       "3  We highly recommend this accomodation and agre...          female  \n",
       "4  Holly's place was great. It was exactly what I...          female  "
      ]
     },
     "execution_count": 55,
     "metadata": {},
     "output_type": "execute_result"
    }
   ],
   "source": [
    "reviews_raw.head()"
   ]
  },
  {
   "cell_type": "code",
   "execution_count": 56,
   "metadata": {},
   "outputs": [
    {
     "data": {
      "text/plain": [
       "male             136199\n",
       "female           132739\n",
       "unknown           49238\n",
       "mostly_female     13512\n",
       "mostly_male       12510\n",
       "andy               6686\n",
       "Name: reviewer_gender, dtype: int64"
      ]
     },
     "execution_count": 56,
     "metadata": {},
     "output_type": "execute_result"
    }
   ],
   "source": [
    "reviews_raw.reviewer_gender.value_counts()"
   ]
  },
  {
   "cell_type": "code",
   "execution_count": 57,
   "metadata": {},
   "outputs": [
    {
     "name": "stdout",
     "output_type": "stream",
     "text": [
      "                 Percentage\n",
      "reviewer_gender            \n",
      "andy               0.019055\n",
      "female             0.378299\n",
      "male               0.388160\n",
      "mostly_female      0.038508\n",
      "mostly_male        0.035653\n",
      "unknown            0.140326\n"
     ]
    }
   ],
   "source": [
    "# Get the percentage of each gender - about 84% are guessed as male or female\n",
    "\n",
    "print(pd.DataFrame({'Percentage': reviews_raw.groupby('reviewer_gender').size() / reviews_raw.shape[0]}))"
   ]
  },
  {
   "cell_type": "code",
   "execution_count": 58,
   "metadata": {},
   "outputs": [
    {
     "data": {
      "text/html": [
       "<div>\n",
       "<style scoped>\n",
       "    .dataframe tbody tr th:only-of-type {\n",
       "        vertical-align: middle;\n",
       "    }\n",
       "\n",
       "    .dataframe tbody tr th {\n",
       "        vertical-align: top;\n",
       "    }\n",
       "\n",
       "    .dataframe thead th {\n",
       "        text-align: right;\n",
       "    }\n",
       "</style>\n",
       "<table border=\"1\" class=\"dataframe\">\n",
       "  <thead>\n",
       "    <tr style=\"text-align: right;\">\n",
       "      <th></th>\n",
       "      <th>listing_id</th>\n",
       "      <th>id</th>\n",
       "      <th>date</th>\n",
       "      <th>reviewer_id</th>\n",
       "      <th>reviewer_name</th>\n",
       "      <th>comments</th>\n",
       "      <th>reviewer_gender</th>\n",
       "    </tr>\n",
       "  </thead>\n",
       "  <tbody>\n",
       "    <tr>\n",
       "      <th>0</th>\n",
       "      <td>958</td>\n",
       "      <td>5977</td>\n",
       "      <td>2009-07-23</td>\n",
       "      <td>15695</td>\n",
       "      <td>Edmund C</td>\n",
       "      <td>Our experience was, without a doubt, a five st...</td>\n",
       "      <td>unknown</td>\n",
       "    </tr>\n",
       "    <tr>\n",
       "      <th>20</th>\n",
       "      <td>958</td>\n",
       "      <td>7817720</td>\n",
       "      <td>2013-10-04</td>\n",
       "      <td>8876124</td>\n",
       "      <td>Echo</td>\n",
       "      <td>What a gem! Holly (and her adorable son!) gree...</td>\n",
       "      <td>unknown</td>\n",
       "    </tr>\n",
       "    <tr>\n",
       "      <th>21</th>\n",
       "      <td>958</td>\n",
       "      <td>9049799</td>\n",
       "      <td>2013-12-03</td>\n",
       "      <td>7519331</td>\n",
       "      <td>Alfiani</td>\n",
       "      <td>We couldn't have asked for a better place to s...</td>\n",
       "      <td>unknown</td>\n",
       "    </tr>\n",
       "    <tr>\n",
       "      <th>22</th>\n",
       "      <td>958</td>\n",
       "      <td>12766593</td>\n",
       "      <td>2014-05-10</td>\n",
       "      <td>6745838</td>\n",
       "      <td>Toshi</td>\n",
       "      <td>Holly's garden unit  is very nice. It is clean...</td>\n",
       "      <td>unknown</td>\n",
       "    </tr>\n",
       "    <tr>\n",
       "      <th>24</th>\n",
       "      <td>958</td>\n",
       "      <td>14349227</td>\n",
       "      <td>2014-06-17</td>\n",
       "      <td>3807407</td>\n",
       "      <td>Shaji</td>\n",
       "      <td>We visited San Fran for a mix of work and leis...</td>\n",
       "      <td>unknown</td>\n",
       "    </tr>\n",
       "  </tbody>\n",
       "</table>\n",
       "</div>"
      ],
      "text/plain": [
       "    listing_id        id        date  reviewer_id reviewer_name  \\\n",
       "0          958      5977  2009-07-23        15695      Edmund C   \n",
       "20         958   7817720  2013-10-04      8876124          Echo   \n",
       "21         958   9049799  2013-12-03      7519331       Alfiani   \n",
       "22         958  12766593  2014-05-10      6745838         Toshi   \n",
       "24         958  14349227  2014-06-17      3807407         Shaji   \n",
       "\n",
       "                                             comments reviewer_gender  \n",
       "0   Our experience was, without a doubt, a five st...         unknown  \n",
       "20  What a gem! Holly (and her adorable son!) gree...         unknown  \n",
       "21  We couldn't have asked for a better place to s...         unknown  \n",
       "22  Holly's garden unit  is very nice. It is clean...         unknown  \n",
       "24  We visited San Fran for a mix of work and leis...         unknown  "
      ]
     },
     "execution_count": 58,
     "metadata": {},
     "output_type": "execute_result"
    }
   ],
   "source": [
    "# Check names classified as unknown\n",
    "\n",
    "reviews_raw.loc[reviews_raw.reviewer_gender == 'unknown'].head()"
   ]
  },
  {
   "cell_type": "code",
   "execution_count": 59,
   "metadata": {},
   "outputs": [
    {
     "data": {
      "text/html": [
       "<div>\n",
       "<style scoped>\n",
       "    .dataframe tbody tr th:only-of-type {\n",
       "        vertical-align: middle;\n",
       "    }\n",
       "\n",
       "    .dataframe tbody tr th {\n",
       "        vertical-align: top;\n",
       "    }\n",
       "\n",
       "    .dataframe thead th {\n",
       "        text-align: right;\n",
       "    }\n",
       "</style>\n",
       "<table border=\"1\" class=\"dataframe\">\n",
       "  <thead>\n",
       "    <tr style=\"text-align: right;\">\n",
       "      <th></th>\n",
       "      <th>listing_id</th>\n",
       "      <th>id</th>\n",
       "      <th>date</th>\n",
       "      <th>reviewer_id</th>\n",
       "      <th>reviewer_name</th>\n",
       "      <th>comments</th>\n",
       "      <th>reviewer_gender</th>\n",
       "    </tr>\n",
       "  </thead>\n",
       "  <tbody>\n",
       "    <tr>\n",
       "      <th>130</th>\n",
       "      <td>958</td>\n",
       "      <td>243671073</td>\n",
       "      <td>2018-03-16</td>\n",
       "      <td>135307957</td>\n",
       "      <td>Cheng</td>\n",
       "      <td>Great location with public transport and a par...</td>\n",
       "      <td>andy</td>\n",
       "    </tr>\n",
       "    <tr>\n",
       "      <th>142</th>\n",
       "      <td>958</td>\n",
       "      <td>279458208</td>\n",
       "      <td>2018-06-20</td>\n",
       "      <td>47298186</td>\n",
       "      <td>Bin</td>\n",
       "      <td>This is lovely private space that you can find...</td>\n",
       "      <td>andy</td>\n",
       "    </tr>\n",
       "    <tr>\n",
       "      <th>152</th>\n",
       "      <td>958</td>\n",
       "      <td>301782825</td>\n",
       "      <td>2018-08-04</td>\n",
       "      <td>109096226</td>\n",
       "      <td>Dominique</td>\n",
       "      <td>Nous avons beaucoup apprécié notre séjour chez...</td>\n",
       "      <td>andy</td>\n",
       "    </tr>\n",
       "    <tr>\n",
       "      <th>270</th>\n",
       "      <td>3850</td>\n",
       "      <td>13229775</td>\n",
       "      <td>2014-05-22</td>\n",
       "      <td>8996947</td>\n",
       "      <td>Yu</td>\n",
       "      <td>The room is clean, cozy and the price is good....</td>\n",
       "      <td>andy</td>\n",
       "    </tr>\n",
       "    <tr>\n",
       "      <th>300</th>\n",
       "      <td>3850</td>\n",
       "      <td>19690948</td>\n",
       "      <td>2014-09-16</td>\n",
       "      <td>7900195</td>\n",
       "      <td>Lesley</td>\n",
       "      <td>Kevin is a great hosts. Very nice and helpful....</td>\n",
       "      <td>andy</td>\n",
       "    </tr>\n",
       "  </tbody>\n",
       "</table>\n",
       "</div>"
      ],
      "text/plain": [
       "     listing_id         id        date  reviewer_id reviewer_name  \\\n",
       "130         958  243671073  2018-03-16    135307957         Cheng   \n",
       "142         958  279458208  2018-06-20     47298186           Bin   \n",
       "152         958  301782825  2018-08-04    109096226     Dominique   \n",
       "270        3850   13229775  2014-05-22      8996947            Yu   \n",
       "300        3850   19690948  2014-09-16      7900195        Lesley   \n",
       "\n",
       "                                              comments reviewer_gender  \n",
       "130  Great location with public transport and a par...            andy  \n",
       "142  This is lovely private space that you can find...            andy  \n",
       "152  Nous avons beaucoup apprécié notre séjour chez...            andy  \n",
       "270  The room is clean, cozy and the price is good....            andy  \n",
       "300  Kevin is a great hosts. Very nice and helpful....            andy  "
      ]
     },
     "execution_count": 59,
     "metadata": {},
     "output_type": "execute_result"
    }
   ],
   "source": [
    "# Check names classified as andy (androgynous) which could be male and female\n",
    "\n",
    "reviews_raw.loc[reviews_raw.reviewer_gender == 'andy'].head()"
   ]
  },
  {
   "cell_type": "code",
   "execution_count": 60,
   "metadata": {},
   "outputs": [],
   "source": [
    "# Recode mostly male to male to 'male' and mostly female to femal2 to 'female' \n",
    "# Convert unknown and andy to null values.\n",
    "# Note there could be errors in gender determination.\n",
    "\n",
    "reviews_raw['reviewer_gender_rec'] = reviews_raw.reviewer_gender.apply(lambda x: 'male' if (x == 'male' or x == 'mostly_male')  else 'female' if (x == 'female' or x == 'mostly_female') else np.nan) "
   ]
  },
  {
   "cell_type": "code",
   "execution_count": 61,
   "metadata": {},
   "outputs": [
    {
     "name": "stdout",
     "output_type": "stream",
     "text": [
      "There are 294869 reviews and 8 features in the cleaned San Feancisco Airbnb review data file.\n"
     ]
    }
   ],
   "source": [
    "# Drop the rows with no reviwer name, reviews, or gender information\n",
    "\n",
    "reviews = reviews_raw.dropna()\n",
    "print(f'There are {reviews.shape[0]} reviews and {reviews.shape[1]} features in the cleaned San Feancisco Airbnb review data file.')"
   ]
  },
  {
   "cell_type": "code",
   "execution_count": 62,
   "metadata": {},
   "outputs": [
    {
     "data": {
      "text/html": [
       "<div>\n",
       "<style scoped>\n",
       "    .dataframe tbody tr th:only-of-type {\n",
       "        vertical-align: middle;\n",
       "    }\n",
       "\n",
       "    .dataframe tbody tr th {\n",
       "        vertical-align: top;\n",
       "    }\n",
       "\n",
       "    .dataframe thead th {\n",
       "        text-align: right;\n",
       "    }\n",
       "</style>\n",
       "<table border=\"1\" class=\"dataframe\">\n",
       "  <thead>\n",
       "    <tr style=\"text-align: right;\">\n",
       "      <th></th>\n",
       "      <th>reviewer_gender_rec</th>\n",
       "      <th>gender</th>\n",
       "    </tr>\n",
       "  </thead>\n",
       "  <tbody>\n",
       "    <tr>\n",
       "      <th>0</th>\n",
       "      <td>female</td>\n",
       "      <td>146218</td>\n",
       "    </tr>\n",
       "    <tr>\n",
       "      <th>1</th>\n",
       "      <td>male</td>\n",
       "      <td>148651</td>\n",
       "    </tr>\n",
       "  </tbody>\n",
       "</table>\n",
       "</div>"
      ],
      "text/plain": [
       "  reviewer_gender_rec  gender\n",
       "0              female  146218\n",
       "1                male  148651"
      ]
     },
     "execution_count": 62,
     "metadata": {},
     "output_type": "execute_result"
    }
   ],
   "source": [
    "# Check the gender breakdown in the number of reviews posted - slightly higher number of males\n",
    "\n",
    "reviews.groupby('reviewer_gender_rec').size().reset_index(name='gender')"
   ]
  },
  {
   "cell_type": "code",
   "execution_count": 63,
   "metadata": {},
   "outputs": [
    {
     "data": {
      "image/png": "[encoded data removed]",
      "text/plain": [
       "<Figure size 400x400 with 1 Axes>"
      ]
     },
     "metadata": {},
     "output_type": "display_data"
    }
   ],
   "source": [
    "# Check the gender breakdown in the number of reviews posted - roughly equal number of males and females\n",
    "\n",
    "rgender = reviews.reviewer_gender_rec.value_counts(normalize=True)*100\n",
    "\n",
    "sns.set()\n",
    "rgender.plot(title = 'Percentage of Gender of Reviewers', figsize = [4,4], kind = 'bar')\n",
    "plt.xticks(rotation = 45, ha = 'right');"
   ]
  },
  {
   "cell_type": "code",
   "execution_count": 64,
   "metadata": {},
   "outputs": [
    {
     "name": "stdout",
     "output_type": "stream",
     "text": [
      "There are 262560 people who posted reviews or gave ratings in the cleaned San Feancisco Airbnb review data file.\n"
     ]
    }
   ],
   "source": [
    "# Check the number of people who posted reviews\n",
    "\n",
    "reviewer_num = reviews.reviewer_id.nunique()\n",
    "\n",
    "print(f'There are {reviewer_num} people who posted reviews or gave ratings in the cleaned San Feancisco Airbnb review data file.')"
   ]
  },
  {
   "cell_type": "markdown",
   "metadata": {},
   "source": [
    "#### Examine the gender difference in the number of reviews posted"
   ]
  },
  {
   "cell_type": "code",
   "execution_count": 65,
   "metadata": {},
   "outputs": [
    {
     "data": {
      "text/html": [
       "<div>\n",
       "<style scoped>\n",
       "    .dataframe tbody tr th:only-of-type {\n",
       "        vertical-align: middle;\n",
       "    }\n",
       "\n",
       "    .dataframe tbody tr th {\n",
       "        vertical-align: top;\n",
       "    }\n",
       "\n",
       "    .dataframe thead th {\n",
       "        text-align: right;\n",
       "    }\n",
       "</style>\n",
       "<table border=\"1\" class=\"dataframe\">\n",
       "  <thead>\n",
       "    <tr style=\"text-align: right;\">\n",
       "      <th></th>\n",
       "      <th>listing_id</th>\n",
       "      <th>id</th>\n",
       "      <th>date</th>\n",
       "      <th>reviewer_id</th>\n",
       "      <th>reviewer_name</th>\n",
       "      <th>comments</th>\n",
       "      <th>reviewer_gender</th>\n",
       "      <th>reviewer_gender_rec</th>\n",
       "    </tr>\n",
       "  </thead>\n",
       "  <tbody>\n",
       "    <tr>\n",
       "      <th>28153</th>\n",
       "      <td>288213</td>\n",
       "      <td>12989859</td>\n",
       "      <td>2014-05-16</td>\n",
       "      <td>1</td>\n",
       "      <td>Nathan</td>\n",
       "      <td>We had a great experience. The apartment was c...</td>\n",
       "      <td>male</td>\n",
       "      <td>male</td>\n",
       "    </tr>\n",
       "    <tr>\n",
       "      <th>90712</th>\n",
       "      <td>1855096</td>\n",
       "      <td>11373365</td>\n",
       "      <td>2014-03-31</td>\n",
       "      <td>1</td>\n",
       "      <td>Nathan</td>\n",
       "      <td>Mike was super responsive in his communication...</td>\n",
       "      <td>male</td>\n",
       "      <td>male</td>\n",
       "    </tr>\n",
       "    <tr>\n",
       "      <th>113772</th>\n",
       "      <td>2933105</td>\n",
       "      <td>13169732</td>\n",
       "      <td>2014-05-20</td>\n",
       "      <td>1</td>\n",
       "      <td>Nathan</td>\n",
       "      <td>My stay with Michelle and her family was perfe...</td>\n",
       "      <td>male</td>\n",
       "      <td>male</td>\n",
       "    </tr>\n",
       "    <tr>\n",
       "      <th>1281</th>\n",
       "      <td>9225</td>\n",
       "      <td>3522757</td>\n",
       "      <td>2013-02-11</td>\n",
       "      <td>3</td>\n",
       "      <td>Brian</td>\n",
       "      <td>Staying here was like sleeping in a gallery. T...</td>\n",
       "      <td>male</td>\n",
       "      <td>male</td>\n",
       "    </tr>\n",
       "    <tr>\n",
       "      <th>2156</th>\n",
       "      <td>12522</td>\n",
       "      <td>62892</td>\n",
       "      <td>2010-07-09</td>\n",
       "      <td>3</td>\n",
       "      <td>Brian</td>\n",
       "      <td>Staying with Brenda was an amazing experience....</td>\n",
       "      <td>male</td>\n",
       "      <td>male</td>\n",
       "    </tr>\n",
       "  </tbody>\n",
       "</table>\n",
       "</div>"
      ],
      "text/plain": [
       "        listing_id        id        date  reviewer_id reviewer_name  \\\n",
       "28153       288213  12989859  2014-05-16            1        Nathan   \n",
       "90712      1855096  11373365  2014-03-31            1        Nathan   \n",
       "113772     2933105  13169732  2014-05-20            1        Nathan   \n",
       "1281          9225   3522757  2013-02-11            3         Brian   \n",
       "2156         12522     62892  2010-07-09            3         Brian   \n",
       "\n",
       "                                                 comments reviewer_gender  \\\n",
       "28153   We had a great experience. The apartment was c...            male   \n",
       "90712   Mike was super responsive in his communication...            male   \n",
       "113772  My stay with Michelle and her family was perfe...            male   \n",
       "1281    Staying here was like sleeping in a gallery. T...            male   \n",
       "2156    Staying with Brenda was an amazing experience....            male   \n",
       "\n",
       "       reviewer_gender_rec  \n",
       "28153                 male  \n",
       "90712                 male  \n",
       "113772                male  \n",
       "1281                  male  \n",
       "2156                  male  "
      ]
     },
     "execution_count": 65,
     "metadata": {},
     "output_type": "execute_result"
    }
   ],
   "source": [
    "reviews_mult = pd.concat(g for _, g in reviews.groupby('reviewer_id') if len(g) > 1)\n",
    "reviews_mult.head()"
   ]
  },
  {
   "cell_type": "code",
   "execution_count": 66,
   "metadata": {},
   "outputs": [
    {
     "name": "stdout",
     "output_type": "stream",
     "text": [
      "There are 20136 people who posted reviews or gave ratings more than once in the cleaned San Feancisco Airbnb review data file.\n"
     ]
    }
   ],
   "source": [
    "# Check the number of people who posted more than 1 review\n",
    "\n",
    "reviewer_mult_num = reviews_mult.reviewer_id.nunique()\n",
    "\n",
    "print(f'There are {reviewer_mult_num} people who posted reviews or gave ratings more than once in the cleaned San Feancisco Airbnb review data file.')"
   ]
  },
  {
   "cell_type": "code",
   "execution_count": 67,
   "metadata": {},
   "outputs": [
    {
     "data": {
      "image/png": "[encoded data removed]",
      "text/plain": [
       "<Figure size 400x400 with 1 Axes>"
      ]
     },
     "metadata": {},
     "output_type": "display_data"
    }
   ],
   "source": [
    "# Check gender breakdown among people who posted multiple reivews - higher percentage of males\n",
    "\n",
    "rgender = reviews_mult.reviewer_gender_rec.value_counts(normalize=True)*100\n",
    "\n",
    "sns.set()\n",
    "rgender.plot(title = 'Percentage of Gender of Reviewers Who Posted Multiple Reviews', figsize = [4,4], kind = 'bar')\n",
    "plt.xticks(rotation = 45, ha = 'right');"
   ]
  },
  {
   "cell_type": "code",
   "execution_count": 68,
   "metadata": {},
   "outputs": [
    {
     "data": {
      "text/html": [
       "<div>\n",
       "<style scoped>\n",
       "    .dataframe tbody tr th:only-of-type {\n",
       "        vertical-align: middle;\n",
       "    }\n",
       "\n",
       "    .dataframe tbody tr th {\n",
       "        vertical-align: top;\n",
       "    }\n",
       "\n",
       "    .dataframe thead th {\n",
       "        text-align: right;\n",
       "    }\n",
       "</style>\n",
       "<table border=\"1\" class=\"dataframe\">\n",
       "  <thead>\n",
       "    <tr style=\"text-align: right;\">\n",
       "      <th></th>\n",
       "      <th>reviewer_id</th>\n",
       "      <th>reviewer_gender_rec</th>\n",
       "      <th>counts</th>\n",
       "    </tr>\n",
       "  </thead>\n",
       "  <tbody>\n",
       "    <tr>\n",
       "      <th>0</th>\n",
       "      <td>2895282</td>\n",
       "      <td>female</td>\n",
       "      <td>78</td>\n",
       "    </tr>\n",
       "    <tr>\n",
       "      <th>1</th>\n",
       "      <td>24713363</td>\n",
       "      <td>male</td>\n",
       "      <td>51</td>\n",
       "    </tr>\n",
       "    <tr>\n",
       "      <th>2</th>\n",
       "      <td>49656450</td>\n",
       "      <td>male</td>\n",
       "      <td>39</td>\n",
       "    </tr>\n",
       "    <tr>\n",
       "      <th>3</th>\n",
       "      <td>2442976</td>\n",
       "      <td>male</td>\n",
       "      <td>36</td>\n",
       "    </tr>\n",
       "    <tr>\n",
       "      <th>4</th>\n",
       "      <td>507125</td>\n",
       "      <td>male</td>\n",
       "      <td>34</td>\n",
       "    </tr>\n",
       "    <tr>\n",
       "      <th>5</th>\n",
       "      <td>45970431</td>\n",
       "      <td>male</td>\n",
       "      <td>31</td>\n",
       "    </tr>\n",
       "    <tr>\n",
       "      <th>6</th>\n",
       "      <td>21186995</td>\n",
       "      <td>male</td>\n",
       "      <td>27</td>\n",
       "    </tr>\n",
       "    <tr>\n",
       "      <th>7</th>\n",
       "      <td>148862477</td>\n",
       "      <td>male</td>\n",
       "      <td>25</td>\n",
       "    </tr>\n",
       "    <tr>\n",
       "      <th>8</th>\n",
       "      <td>46640957</td>\n",
       "      <td>male</td>\n",
       "      <td>23</td>\n",
       "    </tr>\n",
       "    <tr>\n",
       "      <th>9</th>\n",
       "      <td>3259215</td>\n",
       "      <td>female</td>\n",
       "      <td>23</td>\n",
       "    </tr>\n",
       "  </tbody>\n",
       "</table>\n",
       "</div>"
      ],
      "text/plain": [
       "   reviewer_id reviewer_gender_rec  counts\n",
       "0      2895282              female      78\n",
       "1     24713363                male      51\n",
       "2     49656450                male      39\n",
       "3      2442976                male      36\n",
       "4       507125                male      34\n",
       "5     45970431                male      31\n",
       "6     21186995                male      27\n",
       "7    148862477                male      25\n",
       "8     46640957                male      23\n",
       "9      3259215              female      23"
      ]
     },
     "execution_count": 68,
     "metadata": {},
     "output_type": "execute_result"
    }
   ],
   "source": [
    "# Calculate the number of reviews for each reviewer and get top 10 reviewers\n",
    "# Two people wrote more than 50 reviews!\n",
    "\n",
    "reviews.groupby(['reviewer_id', 'reviewer_gender_rec']).size().sort_values(ascending = False) \\\n",
    "                                                        .reset_index(name='counts').head(10) "
   ]
  },
  {
   "cell_type": "code",
   "execution_count": 69,
   "metadata": {},
   "outputs": [
    {
     "data": {
      "text/html": [
       "<div>\n",
       "<style scoped>\n",
       "    .dataframe tbody tr th:only-of-type {\n",
       "        vertical-align: middle;\n",
       "    }\n",
       "\n",
       "    .dataframe tbody tr th {\n",
       "        vertical-align: top;\n",
       "    }\n",
       "\n",
       "    .dataframe thead th {\n",
       "        text-align: right;\n",
       "    }\n",
       "</style>\n",
       "<table border=\"1\" class=\"dataframe\">\n",
       "  <thead>\n",
       "    <tr style=\"text-align: right;\">\n",
       "      <th></th>\n",
       "      <th>listing_id</th>\n",
       "      <th>id</th>\n",
       "      <th>date</th>\n",
       "      <th>reviewer_id</th>\n",
       "      <th>reviewer_name</th>\n",
       "      <th>comments</th>\n",
       "      <th>reviewer_gender</th>\n",
       "      <th>reviewer_gender_rec</th>\n",
       "    </tr>\n",
       "  </thead>\n",
       "  <tbody>\n",
       "    <tr>\n",
       "      <th>1</th>\n",
       "      <td>958</td>\n",
       "      <td>6660</td>\n",
       "      <td>2009-08-03</td>\n",
       "      <td>26145</td>\n",
       "      <td>Simon</td>\n",
       "      <td>Returning to San Francisco is a rejuvenating t...</td>\n",
       "      <td>male</td>\n",
       "      <td>1</td>\n",
       "    </tr>\n",
       "    <tr>\n",
       "      <th>2</th>\n",
       "      <td>958</td>\n",
       "      <td>11519</td>\n",
       "      <td>2009-09-27</td>\n",
       "      <td>25839</td>\n",
       "      <td>Denis</td>\n",
       "      <td>We were very pleased with the accommodations a...</td>\n",
       "      <td>male</td>\n",
       "      <td>1</td>\n",
       "    </tr>\n",
       "    <tr>\n",
       "      <th>3</th>\n",
       "      <td>958</td>\n",
       "      <td>16282</td>\n",
       "      <td>2009-11-05</td>\n",
       "      <td>33750</td>\n",
       "      <td>Anna</td>\n",
       "      <td>We highly recommend this accomodation and agre...</td>\n",
       "      <td>female</td>\n",
       "      <td>0</td>\n",
       "    </tr>\n",
       "    <tr>\n",
       "      <th>4</th>\n",
       "      <td>958</td>\n",
       "      <td>26008</td>\n",
       "      <td>2010-02-13</td>\n",
       "      <td>15416</td>\n",
       "      <td>Venetia</td>\n",
       "      <td>Holly's place was great. It was exactly what I...</td>\n",
       "      <td>female</td>\n",
       "      <td>0</td>\n",
       "    </tr>\n",
       "    <tr>\n",
       "      <th>5</th>\n",
       "      <td>958</td>\n",
       "      <td>29240</td>\n",
       "      <td>2010-03-13</td>\n",
       "      <td>78623</td>\n",
       "      <td>Mathieu</td>\n",
       "      <td>On top of all that has been said previously, I...</td>\n",
       "      <td>male</td>\n",
       "      <td>1</td>\n",
       "    </tr>\n",
       "  </tbody>\n",
       "</table>\n",
       "</div>"
      ],
      "text/plain": [
       "   listing_id     id        date  reviewer_id reviewer_name  \\\n",
       "1         958   6660  2009-08-03        26145         Simon   \n",
       "2         958  11519  2009-09-27        25839         Denis   \n",
       "3         958  16282  2009-11-05        33750          Anna   \n",
       "4         958  26008  2010-02-13        15416       Venetia   \n",
       "5         958  29240  2010-03-13        78623       Mathieu   \n",
       "\n",
       "                                            comments reviewer_gender  \\\n",
       "1  Returning to San Francisco is a rejuvenating t...            male   \n",
       "2  We were very pleased with the accommodations a...            male   \n",
       "3  We highly recommend this accomodation and agre...          female   \n",
       "4  Holly's place was great. It was exactly what I...          female   \n",
       "5  On top of all that has been said previously, I...            male   \n",
       "\n",
       "   reviewer_gender_rec  \n",
       "1                    1  \n",
       "2                    1  \n",
       "3                    0  \n",
       "4                    0  \n",
       "5                    1  "
      ]
     },
     "execution_count": 69,
     "metadata": {},
     "output_type": "execute_result"
    }
   ],
   "source": [
    "# Recode the gender into 1 = 'male' and 2 = female for analysis\n",
    "\n",
    "reviews['reviewer_gender_rec'] = reviews.reviewer_gender_rec.apply(lambda x: 1 if (x == 'male') \\\n",
    "                                                                   else 0 if (x == 'female' ) else np.nan) \n",
    "\n",
    "reviews.head()"
   ]
  },
  {
   "cell_type": "markdown",
   "metadata": {},
   "source": [
    "#### Clean the review text"
   ]
  },
  {
   "cell_type": "code",
   "execution_count": 70,
   "metadata": {},
   "outputs": [
    {
     "name": "stdout",
     "output_type": "stream",
     "text": [
      "Collecting en-core-web-sm==3.4.1\n",
      "  Downloading https://github.com/explosion/spacy-models/releases/download/en_core_web_sm-3.4.1/en_core_web_sm-3.4.1-py3-none-any.whl (12.8 MB)\n",
      "\u001b[2K     \u001b[90m━━━━━━━━━━━━━━━━━━━━━━━━━━━━━━━━━━━━━━━━\u001b[0m \u001b[32m12.8/12.8 MB\u001b[0m \u001b[31m4.9 MB/s\u001b[0m eta \u001b[36m0:00:00\u001b[0m00:01\u001b[0m00:01\u001b[0m\n",
      "\u001b[?25hRequirement already satisfied: spacy<3.5.0,>=3.4.0 in /Users/wolee/opt/anaconda3/lib/python3.9/site-packages (from en-core-web-sm==3.4.1) (3.4.4)\n",
      "Requirement already satisfied: cymem<2.1.0,>=2.0.2 in /Users/wolee/opt/anaconda3/lib/python3.9/site-packages (from spacy<3.5.0,>=3.4.0->en-core-web-sm==3.4.1) (2.0.7)\n",
      "Requirement already satisfied: murmurhash<1.1.0,>=0.28.0 in /Users/wolee/opt/anaconda3/lib/python3.9/site-packages (from spacy<3.5.0,>=3.4.0->en-core-web-sm==3.4.1) (1.0.9)\n",
      "Requirement already satisfied: langcodes<4.0.0,>=3.2.0 in /Users/wolee/opt/anaconda3/lib/python3.9/site-packages (from spacy<3.5.0,>=3.4.0->en-core-web-sm==3.4.1) (3.3.0)\n",
      "Requirement already satisfied: tqdm<5.0.0,>=4.38.0 in /Users/wolee/opt/anaconda3/lib/python3.9/site-packages (from spacy<3.5.0,>=3.4.0->en-core-web-sm==3.4.1) (4.64.1)\n",
      "Requirement already satisfied: pathy>=0.3.5 in /Users/wolee/opt/anaconda3/lib/python3.9/site-packages (from spacy<3.5.0,>=3.4.0->en-core-web-sm==3.4.1) (0.10.1)\n",
      "Requirement already satisfied: spacy-legacy<3.1.0,>=3.0.10 in /Users/wolee/opt/anaconda3/lib/python3.9/site-packages (from spacy<3.5.0,>=3.4.0->en-core-web-sm==3.4.1) (3.0.11)\n",
      "Requirement already satisfied: wasabi<1.1.0,>=0.9.1 in /Users/wolee/opt/anaconda3/lib/python3.9/site-packages (from spacy<3.5.0,>=3.4.0->en-core-web-sm==3.4.1) (0.10.1)\n",
      "Requirement already satisfied: preshed<3.1.0,>=3.0.2 in /Users/wolee/opt/anaconda3/lib/python3.9/site-packages (from spacy<3.5.0,>=3.4.0->en-core-web-sm==3.4.1) (3.0.8)\n",
      "Requirement already satisfied: typer<0.8.0,>=0.3.0 in /Users/wolee/opt/anaconda3/lib/python3.9/site-packages (from spacy<3.5.0,>=3.4.0->en-core-web-sm==3.4.1) (0.7.0)\n",
      "Requirement already satisfied: jinja2 in /Users/wolee/.local/lib/python3.9/site-packages (from spacy<3.5.0,>=3.4.0->en-core-web-sm==3.4.1) (3.1.2)\n",
      "Requirement already satisfied: srsly<3.0.0,>=2.4.3 in /Users/wolee/opt/anaconda3/lib/python3.9/site-packages (from spacy<3.5.0,>=3.4.0->en-core-web-sm==3.4.1) (2.4.5)\n",
      "Requirement already satisfied: pydantic!=1.8,!=1.8.1,<1.11.0,>=1.7.4 in /Users/wolee/opt/anaconda3/lib/python3.9/site-packages (from spacy<3.5.0,>=3.4.0->en-core-web-sm==3.4.1) (1.10.4)\n",
      "Requirement already satisfied: catalogue<2.1.0,>=2.0.6 in /Users/wolee/opt/anaconda3/lib/python3.9/site-packages (from spacy<3.5.0,>=3.4.0->en-core-web-sm==3.4.1) (2.0.8)\n",
      "Requirement already satisfied: smart-open<7.0.0,>=5.2.1 in /Users/wolee/opt/anaconda3/lib/python3.9/site-packages (from spacy<3.5.0,>=3.4.0->en-core-web-sm==3.4.1) (5.2.1)\n",
      "Requirement already satisfied: spacy-loggers<2.0.0,>=1.0.0 in /Users/wolee/opt/anaconda3/lib/python3.9/site-packages (from spacy<3.5.0,>=3.4.0->en-core-web-sm==3.4.1) (1.0.4)\n",
      "Requirement already satisfied: setuptools in /Users/wolee/opt/anaconda3/lib/python3.9/site-packages (from spacy<3.5.0,>=3.4.0->en-core-web-sm==3.4.1) (65.6.3)\n",
      "Requirement already satisfied: thinc<8.2.0,>=8.1.0 in /Users/wolee/opt/anaconda3/lib/python3.9/site-packages (from spacy<3.5.0,>=3.4.0->en-core-web-sm==3.4.1) (8.1.7)\n",
      "Requirement already satisfied: numpy>=1.15.0 in /Users/wolee/opt/anaconda3/lib/python3.9/site-packages (from spacy<3.5.0,>=3.4.0->en-core-web-sm==3.4.1) (1.21.5)\n",
      "Requirement already satisfied: packaging>=20.0 in /Users/wolee/opt/anaconda3/lib/python3.9/site-packages (from spacy<3.5.0,>=3.4.0->en-core-web-sm==3.4.1) (22.0)\n",
      "Requirement already satisfied: requests<3.0.0,>=2.13.0 in /Users/wolee/opt/anaconda3/lib/python3.9/site-packages (from spacy<3.5.0,>=3.4.0->en-core-web-sm==3.4.1) (2.28.1)\n",
      "Requirement already satisfied: typing-extensions>=4.2.0 in /Users/wolee/opt/anaconda3/lib/python3.9/site-packages (from pydantic!=1.8,!=1.8.1,<1.11.0,>=1.7.4->spacy<3.5.0,>=3.4.0->en-core-web-sm==3.4.1) (4.4.0)\n",
      "Requirement already satisfied: urllib3<1.27,>=1.21.1 in /Users/wolee/opt/anaconda3/lib/python3.9/site-packages (from requests<3.0.0,>=2.13.0->spacy<3.5.0,>=3.4.0->en-core-web-sm==3.4.1) (1.26.13)\n",
      "Requirement already satisfied: certifi>=2017.4.17 in /Users/wolee/opt/anaconda3/lib/python3.9/site-packages (from requests<3.0.0,>=2.13.0->spacy<3.5.0,>=3.4.0->en-core-web-sm==3.4.1) (2022.12.7)\n",
      "Requirement already satisfied: charset-normalizer<3,>=2 in /Users/wolee/opt/anaconda3/lib/python3.9/site-packages (from requests<3.0.0,>=2.13.0->spacy<3.5.0,>=3.4.0->en-core-web-sm==3.4.1) (2.0.4)\n",
      "Requirement already satisfied: idna<4,>=2.5 in /Users/wolee/opt/anaconda3/lib/python3.9/site-packages (from requests<3.0.0,>=2.13.0->spacy<3.5.0,>=3.4.0->en-core-web-sm==3.4.1) (3.4)\n",
      "Requirement already satisfied: confection<1.0.0,>=0.0.1 in /Users/wolee/opt/anaconda3/lib/python3.9/site-packages (from thinc<8.2.0,>=8.1.0->spacy<3.5.0,>=3.4.0->en-core-web-sm==3.4.1) (0.0.4)\n",
      "Requirement already satisfied: blis<0.8.0,>=0.7.8 in /Users/wolee/opt/anaconda3/lib/python3.9/site-packages (from thinc<8.2.0,>=8.1.0->spacy<3.5.0,>=3.4.0->en-core-web-sm==3.4.1) (0.7.9)\n",
      "Requirement already satisfied: click<9.0.0,>=7.1.1 in /Users/wolee/opt/anaconda3/lib/python3.9/site-packages (from typer<0.8.0,>=0.3.0->spacy<3.5.0,>=3.4.0->en-core-web-sm==3.4.1) (8.0.4)\n",
      "Requirement already satisfied: MarkupSafe>=2.0 in /Users/wolee/opt/anaconda3/lib/python3.9/site-packages (from jinja2->spacy<3.5.0,>=3.4.0->en-core-web-sm==3.4.1) (2.0.1)\n",
      "\u001b[38;5;2m✔ Download and installation successful\u001b[0m\n",
      "You can now load the package via spacy.load('en_core_web_sm')\n"
     ]
    }
   ],
   "source": [
    "# Download the spacy 'en_sm_web'\n",
    "\n",
    "!python -m spacy download en_core_web_sm"
   ]
  },
  {
   "cell_type": "code",
   "execution_count": 71,
   "metadata": {},
   "outputs": [],
   "source": [
    "# Initialize the Spacy nlp object\n",
    "\n",
    "def get_lang_detector(nlp, name):\n",
    "    \n",
    "    '''\n",
    "    This function loads Spacy's small English pretrained model and initialize its language detector. \n",
    "    \n",
    "    Input: \n",
    "    nlp - pretrained model\n",
    "    name - functuin nane\n",
    "    \n",
    "    Output: \n",
    "    LanguageDetector() - initialized language detector\n",
    "    \n",
    "    '''\n",
    "    return LanguageDetector()"
   ]
  },
  {
   "cell_type": "code",
   "execution_count": 72,
   "metadata": {},
   "outputs": [],
   "source": [
    "# Load the language detector model\n",
    "\n",
    "nlp = spacy.load(\"en_core_web_sm\")\n",
    "Language.factory(\"language_detector\", func=get_lang_detector)\n",
    "nlp.add_pipe('language_detector', last=True);"
   ]
  },
  {
   "cell_type": "code",
   "execution_count": 73,
   "metadata": {},
   "outputs": [],
   "source": [
    "# Get the language of the reviews\n",
    "\n",
    "def lang_detector(review):\n",
    "    \n",
    "    '''\n",
    "    This function determins in which language the commentes are written.\n",
    "    \n",
    "    Input: \n",
    "    review - customer review text\n",
    "    \n",
    "    Output: \n",
    "    language - a top identified language from review text\n",
    "    \n",
    "    '''\n",
    "    \n",
    "    text = nlp(review)\n",
    "    return text._.language['language']"
   ]
  },
  {
   "cell_type": "code",
   "execution_count": 74,
   "metadata": {},
   "outputs": [
    {
     "name": "stderr",
     "output_type": "stream",
     "text": [
      "/Users/wolee/opt/anaconda3/envs/airbnb/lib/python3.10/site-packages/numpy/lib/shape_base.py:790: FutureWarning: The behavior of `series[i:j]` with an integer-dtype index is deprecated. In a future version, this will be treated as *label-based* indexing, consistent with e.g. `series[i]` lookups. To retain the old behavior, use `series.iloc[i:j]`. To get the future behavior, use `series.loc[i:j]`.\n",
      "  sub_arys.append(_nx.swapaxes(sary[st:end], axis, 0))\n"
     ]
    },
    {
     "data": {
      "application/vnd.jupyter.widget-view+json": {
       "model_id": "595fd7833a4a4e89809b221d2f552e85",
       "version_major": 2,
       "version_minor": 0
      },
      "text/plain": [
       "  0%|                                                                                                         …"
      ]
     },
     "metadata": {},
     "output_type": "display_data"
    },
    {
     "name": "stdout",
     "output_type": "stream",
     "text": [
      "The elapsed time for coding review languages is 10.15 minutes.\n"
     ]
    }
   ],
   "source": [
    "# Create the language column for identified review language multi-core processing\n",
    "\n",
    "mapply.init(\n",
    "    n_workers=-1,\n",
    "    chunk_size=1,\n",
    "    max_chunks_per_worker=8,\n",
    ")\n",
    "\n",
    "start = time.time()\n",
    "\n",
    "reviews['language'] = reviews['comments'].mapply(lambda x: lang_detector(x))\n",
    "\n",
    "end = time.time()\n",
    "print (f'The elapsed time for coding review languages is {(end - start)/60:.2f} minutes.')"
   ]
  },
  {
   "cell_type": "code",
   "execution_count": 75,
   "metadata": {},
   "outputs": [
    {
     "name": "stdout",
     "output_type": "stream",
     "text": [
      "\n",
      "The percentage of reviews that are not written in English in the comments column is 0.06%.\n"
     ]
    }
   ],
   "source": [
    "# Get the percentage of reviews written in English - Please note that the results are not 100% accurate. \n",
    "# The reviews that are classified as not being written in English actually included reviews written in English.\n",
    "# It is possible that the opposite is true but the percentage is very small.\n",
    "\n",
    "reviews_foreign = reviews.loc[reviews.language != 'en']\n",
    "\n",
    "reviews_foreign_percent = reviews_foreign.shape[0]/reviews['comments'].shape[0]\n",
    "print(f'\\nThe percentage of reviews that are not written in English in the comments column is {reviews_foreign_percent:.2f}%.')"
   ]
  },
  {
   "cell_type": "code",
   "execution_count": 76,
   "metadata": {},
   "outputs": [],
   "source": [
    "# Remove non-English reviews for sentiment analysis\n",
    "\n",
    "reviews_final = reviews.loc[reviews.language == 'en']"
   ]
  },
  {
   "cell_type": "markdown",
   "metadata": {},
   "source": [
    "## Data Analyses"
   ]
  },
  {
   "cell_type": "markdown",
   "metadata": {},
   "source": [
    "### Regression analysis"
   ]
  },
  {
   "cell_type": "code",
   "execution_count": 77,
   "metadata": {},
   "outputs": [],
   "source": [
    "# Create a dataframe that contains host-related variables.\n",
    "# 'host_response_rate_rec' is exluded due to low variability and high correlation with superhost status\n",
    "# Thsse do not include any null values.\n",
    "\n",
    "listings_host = listings_final[['price_night', 'superhost', 'host_response_rate_rec','host_listings_count', 'minimum_short', 'op_month',  \n",
    "                                'room_type', 'number_of_reviews', 'reviews_per_month','review_scores_rating']] "
   ]
  },
  {
   "cell_type": "code",
   "execution_count": 78,
   "metadata": {},
   "outputs": [
    {
     "data": {
      "text/plain": [
       "listing_id                      0.000000\n",
       "property_type                   0.000000\n",
       "room_type                       0.000000\n",
       "host_id                         0.000000\n",
       "host_listings_count             0.012952\n",
       "number_of_reviews               0.000000\n",
       "review_scores_rating           20.360057\n",
       "review_scores_accuracy         20.411864\n",
       "review_scores_cleanliness      20.398912\n",
       "review_scores_checkin          20.437767\n",
       "review_scores_communication    20.385960\n",
       "review_scores_location         20.437767\n",
       "review_scores_value            20.437767\n",
       "reviews_per_month              19.738376\n",
       "property_type_rec               0.000000\n",
       "superhost                       0.000000\n",
       "price_night                     0.000000\n",
       "host_response_rate_rec          9.959850\n",
       "minimum_short                   0.000000\n",
       "op_month                        0.012952\n",
       "has_review                      0.000000\n",
       "dtype: float64"
      ]
     },
     "execution_count": 78,
     "metadata": {},
     "output_type": "execute_result"
    }
   ],
   "source": [
    "# Check missing value percentages.\n",
    "# The percentages of missing values are small except for the review related category.\n",
    "\n",
    "(listings_final.isnull().sum()/listings_final.shape[0])*100"
   ]
  },
  {
   "cell_type": "code",
   "execution_count": 79,
   "metadata": {},
   "outputs": [],
   "source": [
    "# Recode categorical variables by using liklihood encoding and impute means for numeric variables\n",
    "\n",
    "def clean_df(df, response_col):\n",
    "    \n",
    "    '''\n",
    "    This function impute missing values and create dummy variables for categorical variables.\n",
    "    \n",
    "    Input:\n",
    "    df - dataframe that holds the variables of interest\n",
    "    response_col - column name for the response variable\n",
    "    \n",
    "    Output:\n",
    "    X - X matrice that holds all the variables of interest (predictors)\n",
    "    y - vector that holds the response variable (outcome)\n",
    "    \n",
    "    '''\n",
    "\n",
    "    # Drop nan values in the response column\n",
    "    df  = df.dropna(subset=[response_col], axis=0)\n",
    "        \n",
    "    # Create mean-encoding variables for categorical variabless \n",
    "    cat_col = df.select_dtypes(include=['object'])   \n",
    "    for col in cat_col:\n",
    "        print(col)\n",
    "        # Get the response column means for each category of categorical variables\n",
    "        response_means = df.groupby(col)[response_col].mean()\n",
    "        # Then replace the categorical column values with the corresponding response column means \n",
    "        df[col] = df[col].map(response_means)\n",
    "        \n",
    "    # Impute means for null values for numeric variables \n",
    "    fill_mean = lambda col: col.fillna(col.mean())\n",
    "    df = df.apply(fill_mean, axis=0)\n",
    "        \n",
    "    # Split into explanatory and response variables\n",
    "    X = df.drop(response_col, axis=1) # matrix    \n",
    "    y = df[response_col] # vector response\n",
    "    \n",
    "    return X, y"
   ]
  },
  {
   "cell_type": "code",
   "execution_count": 80,
   "metadata": {},
   "outputs": [
    {
     "name": "stdout",
     "output_type": "stream",
     "text": [
      "superhost\n",
      "room_type\n"
     ]
    }
   ],
   "source": [
    "# Create predictor and outcome variables - host-related variables\n",
    "\n",
    "X, y = clean_df(listings_host, 'review_scores_rating') "
   ]
  },
  {
   "cell_type": "code",
   "execution_count": 81,
   "metadata": {},
   "outputs": [],
   "source": [
    "# Build a regression model with the following as predictors: \n",
    "# price, host length, super host status, minimum stay, number of reviews \n",
    "\n",
    "def reg_model(X, y, test_size, rand_state):\n",
    "    \n",
    "    ''' \n",
    "    Input:\n",
    "    X - X matrice that holds all the variables of interest (predictors)\n",
    "    y - vector that holds the response variable (outcome)\n",
    "    test_size - a float that ranges from 0 to 1 indicating the proportion of data for the test dataset\n",
    "    rand_state - an int indicating the random state for splitting the data into training and test dataset\n",
    "    \n",
    "    Output:\n",
    "    X_train, X_test, y_train, y_test - output from sklearn train test split used for the linear regression model\n",
    "    lm_model - model object from sklearn\n",
    "    train_score - float - r2 score on the test data\n",
    "    test_score - float - r2 score on the test data\n",
    "    \n",
    "    '''\n",
    "    \n",
    "    X_train, X_test, y_train, y_test = train_test_split(X, y, test_size = test_size, random_state = rand_state)\n",
    "\n",
    "    lm_model = LinearRegression()\n",
    "    lm_model.fit(X_train, y_train)\n",
    "    y_test_preds = lm_model.predict(X_test)\n",
    "    y_train_preds = lm_model.predict(X_train)\n",
    "    test_score = r2_score(y_test, y_test_preds)\n",
    "    train_score = r2_score(y_train, y_train_preds)\n",
    "\n",
    "    return X_train, X_test, y_train, y_test, lm_model, train_score, test_score"
   ]
  },
  {
   "cell_type": "code",
   "execution_count": 82,
   "metadata": {},
   "outputs": [
    {
     "name": "stdout",
     "output_type": "stream",
     "text": [
      "0.11617226803498948 0.0815420507448057\n"
     ]
    }
   ],
   "source": [
    "# Run the regression model - scores are low\n",
    "\n",
    "X_train, X_test, y_train, y_test, lm_model, l_train_score, l_test_score = reg_model(X, y, 0.3, 42)\n",
    "print(l_train_score, l_test_score)"
   ]
  },
  {
   "cell_type": "code",
   "execution_count": 83,
   "metadata": {},
   "outputs": [],
   "source": [
    "# coefficients - adopted from the Udacity course matrials\n",
    "\n",
    "def coef_weights(coefficients, X_train, lm_model):\n",
    "    \n",
    "    '''\n",
    "    This function provides a dataframe that can be used to understand the most influential coefficients\n",
    "    in a linear model by providing the coefficient estimates along with the name of the \n",
    "    variable attached to the coefficient.\n",
    "    \n",
    "    Input:\n",
    "    coefficients - the coefficients of the linear model \n",
    "    X_train - the training data, so the column names can be used\n",
    "    \n",
    "    Output:\n",
    "    coefs_df - a dataframe holding the coefficient, estimate, and abs(estimate)\n",
    "    \n",
    "    '''\n",
    "    coefs_df = pd.DataFrame()\n",
    "    \n",
    "    coefs_df['est_int'] = X_train.columns\n",
    "    coefs_df['coefs'] = lm_model.coef_\n",
    "    coefs_df['abs_coefs'] = np.abs(lm_model.coef_)\n",
    "    coefs_df = coefs_df.sort_values('abs_coefs', ascending = False)\n",
    "    return coefs_df"
   ]
  },
  {
   "cell_type": "code",
   "execution_count": 84,
   "metadata": {},
   "outputs": [
    {
     "data": {
      "text/html": [
       "<div>\n",
       "<style scoped>\n",
       "    .dataframe tbody tr th:only-of-type {\n",
       "        vertical-align: middle;\n",
       "    }\n",
       "\n",
       "    .dataframe tbody tr th {\n",
       "        vertical-align: top;\n",
       "    }\n",
       "\n",
       "    .dataframe thead th {\n",
       "        text-align: right;\n",
       "    }\n",
       "</style>\n",
       "<table border=\"1\" class=\"dataframe\">\n",
       "  <thead>\n",
       "    <tr style=\"text-align: right;\">\n",
       "      <th></th>\n",
       "      <th>est_int</th>\n",
       "      <th>coefs</th>\n",
       "      <th>abs_coefs</th>\n",
       "    </tr>\n",
       "  </thead>\n",
       "  <tbody>\n",
       "    <tr>\n",
       "      <th>4</th>\n",
       "      <td>minimum_short</td>\n",
       "      <td>1.341422</td>\n",
       "      <td>1.341422</td>\n",
       "    </tr>\n",
       "    <tr>\n",
       "      <th>1</th>\n",
       "      <td>superhost</td>\n",
       "      <td>0.981465</td>\n",
       "      <td>0.981465</td>\n",
       "    </tr>\n",
       "    <tr>\n",
       "      <th>6</th>\n",
       "      <td>room_type</td>\n",
       "      <td>0.861880</td>\n",
       "      <td>0.861880</td>\n",
       "    </tr>\n",
       "    <tr>\n",
       "      <th>8</th>\n",
       "      <td>reviews_per_month</td>\n",
       "      <td>0.064676</td>\n",
       "      <td>0.064676</td>\n",
       "    </tr>\n",
       "    <tr>\n",
       "      <th>2</th>\n",
       "      <td>host_response_rate_rec</td>\n",
       "      <td>0.006853</td>\n",
       "      <td>0.006853</td>\n",
       "    </tr>\n",
       "    <tr>\n",
       "      <th>0</th>\n",
       "      <td>price_night</td>\n",
       "      <td>0.005387</td>\n",
       "      <td>0.005387</td>\n",
       "    </tr>\n",
       "    <tr>\n",
       "      <th>7</th>\n",
       "      <td>number_of_reviews</td>\n",
       "      <td>-0.003690</td>\n",
       "      <td>0.003690</td>\n",
       "    </tr>\n",
       "    <tr>\n",
       "      <th>3</th>\n",
       "      <td>host_listings_count</td>\n",
       "      <td>-0.002062</td>\n",
       "      <td>0.002062</td>\n",
       "    </tr>\n",
       "    <tr>\n",
       "      <th>5</th>\n",
       "      <td>op_month</td>\n",
       "      <td>0.001728</td>\n",
       "      <td>0.001728</td>\n",
       "    </tr>\n",
       "  </tbody>\n",
       "</table>\n",
       "</div>"
      ],
      "text/plain": [
       "                  est_int     coefs  abs_coefs\n",
       "4           minimum_short  1.341422   1.341422\n",
       "1               superhost  0.981465   0.981465\n",
       "6               room_type  0.861880   0.861880\n",
       "8       reviews_per_month  0.064676   0.064676\n",
       "2  host_response_rate_rec  0.006853   0.006853\n",
       "0             price_night  0.005387   0.005387\n",
       "7       number_of_reviews -0.003690   0.003690\n",
       "3     host_listings_count -0.002062   0.002062\n",
       "5                op_month  0.001728   0.001728"
      ]
     },
     "execution_count": 84,
     "metadata": {},
     "output_type": "execute_result"
    }
   ],
   "source": [
    "# Get coefficients of each variable that predicts review scores\n",
    "# Superhost status is the strongest predictor, followed by the shared room type (lowest price). \n",
    "# Shorter minimum stay is also realted to high reviews ratings but it may be related to superhost status too.\n",
    "# Other host related variables as well as price didn't predict review ratings. \n",
    "\n",
    "coef_df = coef_weights(lm_model.coef_, X_train, lm_model)\n",
    "\n",
    "coef_df.sort_values('abs_coefs', ascending = False)"
   ]
  },
  {
   "cell_type": "code",
   "execution_count": 85,
   "metadata": {},
   "outputs": [],
   "source": [
    "# Add reviews data and see if gender and sentiment can predict review scores \n",
    "# Merge the listings and reviews dataframes\n",
    "\n",
    "listings_merged = pd.merge(listings_final, reviews_final, on = 'listing_id', how = 'left')"
   ]
  },
  {
   "cell_type": "code",
   "execution_count": 86,
   "metadata": {},
   "outputs": [],
   "source": [
    "# Create a dataframe that contains different review categories \n",
    "\n",
    "listings_reviews = listings_merged[['review_scores_accuracy', 'review_scores_cleanliness', 'review_scores_checkin',\n",
    "                                   'review_scores_communication', 'review_scores_location','review_scores_value', \n",
    "                                   'reviewer_gender_rec', 'review_scores_rating']]"
   ]
  },
  {
   "cell_type": "code",
   "execution_count": 87,
   "metadata": {},
   "outputs": [],
   "source": [
    "# Drop all null values since there are not many missing values left\n",
    "# after removing missing values for the dependent variable - review scores rating\n",
    "\n",
    "listings_reviews = listings_reviews.dropna()"
   ]
  },
  {
   "cell_type": "code",
   "execution_count": 88,
   "metadata": {},
   "outputs": [],
   "source": [
    "# Create predictor and outcome variables - review-related variables\n",
    "\n",
    "X1, y1 = clean_df(listings_reviews, 'review_scores_rating') "
   ]
  },
  {
   "cell_type": "code",
   "execution_count": 89,
   "metadata": {},
   "outputs": [
    {
     "name": "stdout",
     "output_type": "stream",
     "text": [
      "0.6633973293915243 0.6670792291357823\n"
     ]
    }
   ],
   "source": [
    "X1_train, X1_test, y1_train, y1_test, lm_model1, l_train_score1, l_test_score1 = reg_model(X1, y1, 0.3, 42)\n",
    "print(l_train_score1, l_test_score1)"
   ]
  },
  {
   "cell_type": "code",
   "execution_count": 90,
   "metadata": {},
   "outputs": [
    {
     "data": {
      "text/html": [
       "<div>\n",
       "<style scoped>\n",
       "    .dataframe tbody tr th:only-of-type {\n",
       "        vertical-align: middle;\n",
       "    }\n",
       "\n",
       "    .dataframe tbody tr th {\n",
       "        vertical-align: top;\n",
       "    }\n",
       "\n",
       "    .dataframe thead th {\n",
       "        text-align: right;\n",
       "    }\n",
       "</style>\n",
       "<table border=\"1\" class=\"dataframe\">\n",
       "  <thead>\n",
       "    <tr style=\"text-align: right;\">\n",
       "      <th></th>\n",
       "      <th>est_int</th>\n",
       "      <th>coefs</th>\n",
       "      <th>abs_coefs</th>\n",
       "    </tr>\n",
       "  </thead>\n",
       "  <tbody>\n",
       "    <tr>\n",
       "      <th>1</th>\n",
       "      <td>review_scores_cleanliness</td>\n",
       "      <td>2.493021</td>\n",
       "      <td>2.493021</td>\n",
       "    </tr>\n",
       "    <tr>\n",
       "      <th>0</th>\n",
       "      <td>review_scores_accuracy</td>\n",
       "      <td>2.123046</td>\n",
       "      <td>2.123046</td>\n",
       "    </tr>\n",
       "    <tr>\n",
       "      <th>3</th>\n",
       "      <td>review_scores_communication</td>\n",
       "      <td>1.904170</td>\n",
       "      <td>1.904170</td>\n",
       "    </tr>\n",
       "    <tr>\n",
       "      <th>5</th>\n",
       "      <td>review_scores_value</td>\n",
       "      <td>1.719458</td>\n",
       "      <td>1.719458</td>\n",
       "    </tr>\n",
       "    <tr>\n",
       "      <th>4</th>\n",
       "      <td>review_scores_location</td>\n",
       "      <td>0.883611</td>\n",
       "      <td>0.883611</td>\n",
       "    </tr>\n",
       "    <tr>\n",
       "      <th>2</th>\n",
       "      <td>review_scores_checkin</td>\n",
       "      <td>0.703799</td>\n",
       "      <td>0.703799</td>\n",
       "    </tr>\n",
       "    <tr>\n",
       "      <th>6</th>\n",
       "      <td>reviewer_gender_rec</td>\n",
       "      <td>-0.004989</td>\n",
       "      <td>0.004989</td>\n",
       "    </tr>\n",
       "  </tbody>\n",
       "</table>\n",
       "</div>"
      ],
      "text/plain": [
       "                       est_int     coefs  abs_coefs\n",
       "1    review_scores_cleanliness  2.493021   2.493021\n",
       "0       review_scores_accuracy  2.123046   2.123046\n",
       "3  review_scores_communication  1.904170   1.904170\n",
       "5          review_scores_value  1.719458   1.719458\n",
       "4       review_scores_location  0.883611   0.883611\n",
       "2        review_scores_checkin  0.703799   0.703799\n",
       "6          reviewer_gender_rec -0.004989   0.004989"
      ]
     },
     "execution_count": 90,
     "metadata": {},
     "output_type": "execute_result"
    }
   ],
   "source": [
    "# Get coefficients of each variable that predicts review scores\n",
    "# Cleanliness, accuracy of places, and communication were top three predictors of review scores.\n",
    "\n",
    "coef_df1 = coef_weights(lm_model1.coef_, X1_train, lm_model1)\n",
    "\n",
    "coef_df1.sort_values('abs_coefs', ascending = False)"
   ]
  },
  {
   "cell_type": "markdown",
   "metadata": {},
   "source": [
    "### Sentiment analysis"
   ]
  },
  {
   "cell_type": "code",
   "execution_count": 91,
   "metadata": {},
   "outputs": [
    {
     "name": "stderr",
     "output_type": "stream",
     "text": [
      "[nltk_data] Downloading package vader_lexicon to\n",
      "[nltk_data]     /Users/wolee/nltk_data...\n",
      "[nltk_data]   Package vader_lexicon is already up-to-date!\n"
     ]
    }
   ],
   "source": [
    "# Initialize the sentiment intensity analyzer\n",
    "\n",
    "nltk.download('vader_lexicon')\n",
    "sia = SentimentIntensityAnalyzer()\n",
    "\n",
    "# Get the compound score\n",
    "\n",
    "def sent_score(review):\n",
    "    \n",
    "    '''\n",
    "    This function generates the positive/negatrive sentiment scores.\n",
    "    \n",
    "    Input: \n",
    "    review - customer review text\n",
    "    \n",
    "    Output: \n",
    "    a compound sentiment score \n",
    "    \n",
    "    '''\n",
    "    \n",
    "    score = sia.polarity_scores(review)['compound']\n",
    "    return score"
   ]
  },
  {
   "cell_type": "code",
   "execution_count": 92,
   "metadata": {},
   "outputs": [
    {
     "name": "stderr",
     "output_type": "stream",
     "text": [
      "/Users/wolee/opt/anaconda3/envs/airbnb/lib/python3.10/site-packages/numpy/lib/shape_base.py:790: FutureWarning: The behavior of `series[i:j]` with an integer-dtype index is deprecated. In a future version, this will be treated as *label-based* indexing, consistent with e.g. `series[i]` lookups. To retain the old behavior, use `series.iloc[i:j]`. To get the future behavior, use `series.loc[i:j]`.\n",
      "  sub_arys.append(_nx.swapaxes(sary[st:end], axis, 0))\n"
     ]
    },
    {
     "data": {
      "application/vnd.jupyter.widget-view+json": {
       "model_id": "22a8200a47d3400290f193d2f876dc5b",
       "version_major": 2,
       "version_minor": 0
      },
      "text/plain": [
       "  0%|                                                                                                         …"
      ]
     },
     "metadata": {},
     "output_type": "display_data"
    },
    {
     "name": "stderr",
     "output_type": "stream",
     "text": [
      "/Users/wolee/opt/anaconda3/envs/airbnb/lib/python3.10/site-packages/numpy/lib/shape_base.py:790: FutureWarning: The behavior of `series[i:j]` with an integer-dtype index is deprecated. In a future version, this will be treated as *label-based* indexing, consistent with e.g. `series[i]` lookups. To retain the old behavior, use `series.iloc[i:j]`. To get the future behavior, use `series.loc[i:j]`.\n",
      "  sub_arys.append(_nx.swapaxes(sary[st:end], axis, 0))\n"
     ]
    },
    {
     "data": {
      "application/vnd.jupyter.widget-view+json": {
       "model_id": "4aa96b66c1204e699a9c31a60df23855",
       "version_major": 2,
       "version_minor": 0
      },
      "text/plain": [
       "  0%|                                                                                                         …"
      ]
     },
     "metadata": {},
     "output_type": "display_data"
    }
   ],
   "source": [
    "# Compute the compound score for positive/negative sentiment in reviews\n",
    "\n",
    "reviews_final['sentiment_score'] = reviews_final['comments'].mapply(sent_score)\n",
    "\n",
    "# Code for positive vs negative sentiment \n",
    "\n",
    "reviews_final['sentiment'] = reviews_final['sentiment_score'].mapply(lambda x: 'positive' if x > 0.05 else 'neutral' \\\n",
    "                                                                    if x==0 else 'negative')"
   ]
  },
  {
   "cell_type": "code",
   "execution_count": 93,
   "metadata": {},
   "outputs": [
    {
     "name": "stderr",
     "output_type": "stream",
     "text": [
      "/Users/wolee/opt/anaconda3/envs/airbnb/lib/python3.10/site-packages/numpy/lib/shape_base.py:790: FutureWarning: The behavior of `series[i:j]` with an integer-dtype index is deprecated. In a future version, this will be treated as *label-based* indexing, consistent with e.g. `series[i]` lookups. To retain the old behavior, use `series.iloc[i:j]`. To get the future behavior, use `series.loc[i:j]`.\n",
      "  sub_arys.append(_nx.swapaxes(sary[st:end], axis, 0))\n"
     ]
    },
    {
     "data": {
      "application/vnd.jupyter.widget-view+json": {
       "model_id": "58b65f2d738644fc8632131eb8ed0f16",
       "version_major": 2,
       "version_minor": 0
      },
      "text/plain": [
       "  0%|                                                                                                         …"
      ]
     },
     "metadata": {},
     "output_type": "display_data"
    },
    {
     "name": "stderr",
     "output_type": "stream",
     "text": [
      "/Users/wolee/opt/anaconda3/envs/airbnb/lib/python3.10/site-packages/numpy/lib/shape_base.py:790: FutureWarning: The behavior of `series[i:j]` with an integer-dtype index is deprecated. In a future version, this will be treated as *label-based* indexing, consistent with e.g. `series[i]` lookups. To retain the old behavior, use `series.iloc[i:j]`. To get the future behavior, use `series.loc[i:j]`.\n",
      "  sub_arys.append(_nx.swapaxes(sary[st:end], axis, 0))\n"
     ]
    },
    {
     "data": {
      "application/vnd.jupyter.widget-view+json": {
       "model_id": "bdab080dc2b5457a9d71c4d38b71f369",
       "version_major": 2,
       "version_minor": 0
      },
      "text/plain": [
       "  0%|                                                                                                         …"
      ]
     },
     "metadata": {},
     "output_type": "display_data"
    },
    {
     "name": "stdout",
     "output_type": "stream",
     "text": [
      "The elapsed time for coding review sentiments is 0.26 minutes.\n"
     ]
    }
   ],
   "source": [
    "# Compute the compound score for positive/negative sentiment in reviews\n",
    "\n",
    "start = time.time()\n",
    "\n",
    "reviews_final['sentiment_score'] = reviews_final['comments'].mapply(sent_score)\n",
    "\n",
    "# Code for positive vs negative sentiment \n",
    "\n",
    "reviews_final['sentiment'] = reviews_final['sentiment_score'].mapply(lambda x: 'positive' if x >= 0.05 \\\n",
    "                                                                     else 'negative' if x >= -0.05 else 'neutral')\n",
    "end = time.time()\n",
    "print (f'The elapsed time for coding review sentiments is {(end - start)/60:.2f} minutes.')"
   ]
  },
  {
   "cell_type": "code",
   "execution_count": 94,
   "metadata": {},
   "outputs": [
    {
     "data": {
      "text/plain": [
       "positive    97.772651\n",
       "negative     1.336986\n",
       "neutral      0.890363\n",
       "Name: sentiment, dtype: float64"
      ]
     },
     "execution_count": 94,
     "metadata": {},
     "output_type": "execute_result"
    }
   ],
   "source": [
    "# Get the percentages of positive vs negative sentiment reviews. \n",
    "# Nearly everyone gave positive reviews!\n",
    "\n",
    "reviews_final['sentiment'].value_counts(normalize=True)*100"
   ]
  },
  {
   "cell_type": "code",
   "execution_count": 95,
   "metadata": {},
   "outputs": [],
   "source": [
    "# Examine negative reviews. Again, this is not 100% accurate.\n",
    "\n",
    "reviews_neg = reviews_final.loc[reviews_final.sentiment == 'negative'] # Many are written in non-English."
   ]
  },
  {
   "cell_type": "code",
   "execution_count": 96,
   "metadata": {},
   "outputs": [
    {
     "data": {
      "text/plain": [
       "'Bernat’s place is in a prime location within walking distance of many restaurants along Divisadero and Haight.'"
      ]
     },
     "execution_count": 96,
     "metadata": {},
     "output_type": "execute_result"
    }
   ],
   "source": [
    "# An example of reviews that is inaccurately classified as \"negative\" \n",
    "\n",
    "reviews_neg.comments.iloc[12] #wrong label"
   ]
  },
  {
   "cell_type": "code",
   "execution_count": 97,
   "metadata": {},
   "outputs": [],
   "source": [
    "# Look at the gender differences in sentiment scores - not much difference\n",
    "\n",
    "reviews_final.groupby('reviewer_gender_rec')['sentiment_score'].mean()\n",
    "sent_diff = reviews_final.groupby('reviewer_gender_rec')['sentiment_score'].mean()"
   ]
  },
  {
   "cell_type": "code",
   "execution_count": 98,
   "metadata": {},
   "outputs": [
    {
     "data": {
      "text/html": [
       "<div>\n",
       "<style scoped>\n",
       "    .dataframe tbody tr th:only-of-type {\n",
       "        vertical-align: middle;\n",
       "    }\n",
       "\n",
       "    .dataframe tbody tr th {\n",
       "        vertical-align: top;\n",
       "    }\n",
       "\n",
       "    .dataframe thead th {\n",
       "        text-align: right;\n",
       "    }\n",
       "</style>\n",
       "<table border=\"1\" class=\"dataframe\">\n",
       "  <thead>\n",
       "    <tr style=\"text-align: right;\">\n",
       "      <th>sentiment</th>\n",
       "      <th>negative</th>\n",
       "      <th>neutral</th>\n",
       "      <th>positive</th>\n",
       "    </tr>\n",
       "    <tr>\n",
       "      <th>reviewer_gender_rec</th>\n",
       "      <th></th>\n",
       "      <th></th>\n",
       "      <th></th>\n",
       "    </tr>\n",
       "  </thead>\n",
       "  <tbody>\n",
       "    <tr>\n",
       "      <th>0</th>\n",
       "      <td>1569</td>\n",
       "      <td>1101</td>\n",
       "      <td>134743</td>\n",
       "    </tr>\n",
       "    <tr>\n",
       "      <th>1</th>\n",
       "      <td>2140</td>\n",
       "      <td>1369</td>\n",
       "      <td>136493</td>\n",
       "    </tr>\n",
       "  </tbody>\n",
       "</table>\n",
       "</div>"
      ],
      "text/plain": [
       "sentiment            negative  neutral  positive\n",
       "reviewer_gender_rec                             \n",
       "0                        1569     1101    134743\n",
       "1                        2140     1369    136493"
      ]
     },
     "execution_count": 98,
     "metadata": {},
     "output_type": "execute_result"
    }
   ],
   "source": [
    "# Look at the gender differences in sentiment scores - not much difference\n",
    "\n",
    "pd.crosstab(reviews_final.reviewer_gender_rec, reviews_final.sentiment)"
   ]
  },
  {
   "cell_type": "code",
   "execution_count": 99,
   "metadata": {},
   "outputs": [],
   "source": [
    "# Save the cleaned/coded reviews file\n",
    "\n",
    "# reviews_final.to_csv('airbnb_reviews_cleaned_coded.csv')"
   ]
  },
  {
   "cell_type": "markdown",
   "metadata": {},
   "source": [
    "### Text analysis"
   ]
  },
  {
   "cell_type": "code",
   "execution_count": 100,
   "metadata": {},
   "outputs": [
    {
     "name": "stderr",
     "output_type": "stream",
     "text": [
      "[nltk_data] Error loading stop_words: Package 'stop_words' not found\n",
      "[nltk_data]     in index\n",
      "/Users/wolee/opt/anaconda3/envs/airbnb/lib/python3.10/site-packages/numpy/lib/shape_base.py:790: FutureWarning: The behavior of `series[i:j]` with an integer-dtype index is deprecated. In a future version, this will be treated as *label-based* indexing, consistent with e.g. `series[i]` lookups. To retain the old behavior, use `series.iloc[i:j]`. To get the future behavior, use `series.loc[i:j]`.\n",
      "  sub_arys.append(_nx.swapaxes(sary[st:end], axis, 0))\n"
     ]
    },
    {
     "data": {
      "application/vnd.jupyter.widget-view+json": {
       "model_id": "c17b1af1736747d8b7bf070ecd62c6f1",
       "version_major": 2,
       "version_minor": 0
      },
      "text/plain": [
       "  0%|                                                                                                         …"
      ]
     },
     "metadata": {},
     "output_type": "display_data"
    }
   ],
   "source": [
    "# Remove the stopwords from the reviews \n",
    "\n",
    "nltk.download('stop_words')\n",
    "stop_words = set(stopwords.words('english')) \n",
    "\n",
    "reviews_final['comments2'] = reviews_final['comments'].mapply(lambda x: [item.strip().lower() for item in x.split(' ') if item.strip().lower() not in stop_words])\n",
    "\n",
    "# Merge the sublist that contains each review in the big list to create a corpus of words\n",
    "\n",
    "review_list = reviews_final['comments2'].values.tolist()\n",
    "flat_list = [item for sublist in review_list for item in sublist]"
   ]
  },
  {
   "cell_type": "code",
   "execution_count": 101,
   "metadata": {},
   "outputs": [],
   "source": [
    "# Initialize a CountVectorizer object: count_vectorizer - from Kaggle tutorial\n",
    "\n",
    "count_vec = CountVectorizer(stop_words = \"english\", analyzer = 'word', \n",
    "                            ngram_range = (1, 1), max_df = 1.0, min_df = 1, max_features = None)\n",
    "\n",
    "# Transforms the data into a bag of words\n",
    "\n",
    "count_train = count_vec.fit(flat_list)\n",
    "bag_of_words = count_vec.transform(flat_list)"
   ]
  },
  {
   "cell_type": "code",
   "execution_count": 102,
   "metadata": {},
   "outputs": [
    {
     "name": "stdout",
     "output_type": "stream",
     "text": [
      "There are 48876 vocabularies in the review text excluding the stopwords.\n"
     ]
    }
   ],
   "source": [
    "# Check the number of words\n",
    "\n",
    "print(f'There are {len(count_train.vocabulary_)} vocabularies in the review text excluding the stopwords.')"
   ]
  },
  {
   "cell_type": "code",
   "execution_count": 103,
   "metadata": {},
   "outputs": [],
   "source": [
    "# Initialize the tfidf vectorizor object - print statement deleted after chekcing the data  \n",
    "\n",
    "tf = TfidfVectorizer(smooth_idf = False, sublinear_tf = False, norm = None, analyzer = 'word')\n",
    "txt_fitted = tf.fit(flat_list)\n",
    "txt_transformed = txt_fitted.transform(flat_list)"
   ]
  },
  {
   "cell_type": "code",
   "execution_count": 104,
   "metadata": {},
   "outputs": [],
   "source": [
    "# Get the inverse documnet frequency - print statement delted after chekcing the data printed data checked and deleted\n",
    "\n",
    "idf = tf.idf_"
   ]
  },
  {
   "cell_type": "code",
   "execution_count": 105,
   "metadata": {},
   "outputs": [],
   "source": [
    "# Subset the reviews data \n",
    "\n",
    "X2 = reviews_final['comments']\n",
    "y2 = reviews_final['reviewer_gender_rec']\n",
    "\n",
    "# To test if comments can predict gender\n",
    "\n",
    "def classify_text(X, y):\n",
    "    \n",
    "    '''\n",
    "    This function displays the classification report for the Linear SVC model.\n",
    "    \n",
    "    Input: \n",
    "    X - X matrice that holds the variables of interest (predictors)\n",
    "    y - vector that holds the response variable (outcome)\n",
    "    \n",
    "    Output:\n",
    "    classification report that shows precision, recall, f1-score, and support\n",
    "    \n",
    "    '''\n",
    "    \n",
    "    X_train, X_test, y_train, y_test = train_test_split(X, y, test_size = 0.3, random_state = 42)\n",
    "    text_clf = Pipeline([('tfidf', TfidfVectorizer()), ('clf', LinearSVC())])\n",
    "    text_clf.fit(X_train, y_train)\n",
    "    y_preds = text_clf.predict(X_test)\n",
    "    c_report = classification_report(y_test, y_preds)\n",
    "    accuracy = accuracy_score(y_test, y_preds )\n",
    "    print(f'Accuracy score is {accuracy:.2f}.\\n\\nClassificstion Report\\n\\n{c_report}')\n",
    "    return "
   ]
  },
  {
   "cell_type": "code",
   "execution_count": 106,
   "metadata": {},
   "outputs": [
    {
     "name": "stdout",
     "output_type": "stream",
     "text": [
      "Accuracy score is 0.65.\n",
      "\n",
      "Classificstion Report\n",
      "\n",
      "              precision    recall  f1-score   support\n",
      "\n",
      "           0       0.65      0.63      0.64     41250\n",
      "           1       0.65      0.67      0.66     41975\n",
      "\n",
      "    accuracy                           0.65     83225\n",
      "   macro avg       0.65      0.65      0.65     83225\n",
      "weighted avg       0.65      0.65      0.65     83225\n",
      "\n"
     ]
    }
   ],
   "source": [
    "# classify gender based on reviews - prediction not great\n",
    "# It would be great that there are actual demographic data of reviewers\n",
    "\n",
    "classify_text(X2, y2)"
   ]
  },
  {
   "cell_type": "code",
   "execution_count": 107,
   "metadata": {},
   "outputs": [],
   "source": [
    "# Get the most common words in the reviews\n",
    "\n",
    "def get_top_n_words(corpus,  n = None):\n",
    "    \n",
    "    \"\"\"\n",
    "    This function list the top n words in a vocabulary according to occurrence in a text corpus.\n",
    "    \n",
    "    Input:\n",
    "    corpus - the entire review text\n",
    "    n - the n number of most frequent words\n",
    "\n",
    "    \"\"\"\n",
    "    \n",
    "    vec = CountVectorizer().fit(corpus)\n",
    "    bag_of_words = vec.transform(corpus)\n",
    "    sum_words = bag_of_words.sum(axis=0) \n",
    "    words_freq = [(word, sum_words[0, idx]) for word, idx in vec.vocabulary_.items()]\n",
    "    words_freq = sorted(words_freq, key = lambda x: x[1], reverse = True)\n",
    "    return words_freq[:n]"
   ]
  },
  {
   "cell_type": "code",
   "execution_count": 108,
   "metadata": {},
   "outputs": [
    {
     "data": {
      "text/plain": [
       "[('great', 190882),\n",
       " ('place', 154909),\n",
       " ('stay', 144881),\n",
       " ('location', 94426),\n",
       " ('clean', 88654),\n",
       " ('would', 70287),\n",
       " ('nice', 65807),\n",
       " ('room', 65538),\n",
       " ('host', 63850),\n",
       " ('us', 61558),\n",
       " ('comfortable', 61104),\n",
       " ('apartment', 58364),\n",
       " ('home', 54009),\n",
       " ('recommend', 52941),\n",
       " ('san', 52321),\n",
       " ('easy', 48818),\n",
       " ('everything', 48750),\n",
       " ('really', 46719),\n",
       " ('perfect', 44951),\n",
       " ('francisco', 44436)]"
      ]
     },
     "execution_count": 108,
     "metadata": {},
     "output_type": "execute_result"
    }
   ],
   "source": [
    "# Get the most frequently mentioned words in reviews. \n",
    "# I noticed some common words such as would and us were not removed as stopwords.\n",
    "# Also, plural forms are counted seperately.\n",
    "# After excluding those and travel-related words, location, cleanliness, and host seem to stand out as important factors\n",
    "# for guest satisfcation.\n",
    "# Words such as superhost(s) can be added to host which will incrase its frequency.\n",
    "# Also as shown in very positive review ratings, people recommend the place a lot in their reviews.\n",
    "    \n",
    "get_top_n_words(flat_list, 20)"
   ]
  },
  {
   "cell_type": "markdown",
   "metadata": {},
   "source": [
    "## Findings"
   ]
  },
  {
   "cell_type": "markdown",
   "metadata": {},
   "source": [
    "Below are the findings:\n",
    "\n",
    "1. There are many different types of listings in San Francisco with a wide range of prices that are run by hosts \n",
    "   with various number of listings and operating years.\n",
    "2. As expected, superhosts had higher review rating scores and had more hosting experience.\n",
    "3. Overall guest ratings were very high.\n",
    "4. Men wrote more reviews than women.\n",
    "5. Location, cleanliness, and host appear to be the three most important factors one considers when leaving a review for their Airbnb experience."
   ]
  }
 ],
 "metadata": {
  "kernelspec": {
   "display_name": "airbnb",
   "language": "python",
   "name": "airbnb"
  },
  "language_info": {
   "codemirror_mode": {
    "name": "ipython",
    "version": 3
   },
   "file_extension": ".py",
   "mimetype": "text/x-python",
   "name": "python",
   "nbconvert_exporter": "python",
   "pygments_lexer": "ipython3",
   "version": "3.10.9"
  }
 },
 "nbformat": 4,
 "nbformat_minor": 2
}
